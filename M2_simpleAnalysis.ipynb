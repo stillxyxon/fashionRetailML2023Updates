{
 "cells": [
  {
   "cell_type": "markdown",
   "metadata": {},
   "source": [
    "# M2 간단한 데이터 분석\n",
    "\n",
    "- 데이터 불러오기\n",
    "- 간단한 챠트 작성\n",
    "- 기초적인 고객데이터 분석 연습 - 성별, 연령별, 지역별 고객수와 금액 분석\n",
    "<br><br>\n",
    "- **목표** : 파이썬을 사용한 데이터 분석 기초 연습\n"
   ]
  },
  {
   "cell_type": "code",
   "execution_count": 1,
   "metadata": {},
   "outputs": [],
   "source": [
    "# 기본적으로 필요한 라이브러리 로딩\n",
    "\n",
    "import numpy as np\n",
    "import matplotlib.pyplot as plt\n",
    "import pandas as pd\n",
    "from numpy.polynomial.polynomial import polyfit\n",
    "\n",
    "\n",
    "# 자주 사용할만한 사용자 정의 함수 정의\n",
    "\n",
    "# define random jitter\n",
    "def rjitt(arr):\n",
    "    stdev = .01*(max(arr)-min(arr))\n",
    "    return arr + np.random.randn(len(arr)) * stdev\n",
    "\n",
    "# custom min max scaler\n",
    "def mnmx_scl(vec):\n",
    "    vec = (vec-vec.min())/(vec.max()-vec.min())\n",
    "    return(vec)\n",
    "\n",
    "\n",
    "import warnings\n",
    "# 경고 메시지 숨기기\n",
    "warnings.filterwarnings('ignore')\n",
    "\n",
    "\n",
    "\n",
    "# 데이터를 불러올 기본 위치 지정\n",
    "\n",
    "# local data path\n",
    "dataPath = 'C:/Users/kofot/fashionRetailAnalysisPy_4a-20230629T052521Z-001/fashionRetailAnalysisPy_4a/' # 생성위치는 사용자 지정\n",
    "\n",
    "\n",
    "# dataPath = 'C:/Users/kofot/'\n",
    "\n",
    "# matplotlib 에서 한글을 표시하기 위한 설정\n",
    "\n",
    "import matplotlib.font_manager\n",
    "    \n",
    "font_name = matplotlib.font_manager.FontProperties(\n",
    "                fname=\"c:/Windows/Fonts/malgun.ttf\"  # 윈도우즈의 한글 폰트 위치를 지정\n",
    "            ).get_name()\n",
    "matplotlib.rc('font', family=font_name)\n",
    "\n",
    "matplotlib.rcParams['axes.unicode_minus'] = False #  음수를 나타내는 '-' 부호가 정상 표시되도록\n"
   ]
  },
  {
   "cell_type": "code",
   "execution_count": null,
   "metadata": {},
   "outputs": [],
   "source": []
  },
  {
   "cell_type": "markdown",
   "metadata": {},
   "source": [
    "## 파이썬 프로그래밍 감잡기 연습"
   ]
  },
  {
   "cell_type": "code",
   "execution_count": 2,
   "metadata": {},
   "outputs": [
    {
     "data": {
      "text/plain": [
       "'일본'"
      ]
     },
     "execution_count": 2,
     "metadata": {},
     "output_type": "execute_result"
    }
   ],
   "source": [
    "# 하나의 값을 가진 변수\n",
    "\n",
    "city = '일본'\n",
    "city"
   ]
  },
  {
   "cell_type": "code",
   "execution_count": 3,
   "metadata": {},
   "outputs": [
    {
     "name": "stdout",
     "output_type": "stream",
     "text": [
      "이태리\n"
     ]
    }
   ],
   "source": [
    "# 국가 라는 변수에다가 '이태리'\n",
    "\n",
    "# 변수이름(국가)를 아래줄에 또 씀\n",
    "# ==> 프로그램 작성 완료!!\n",
    "\n",
    "country = '이태리'\n",
    "country\n",
    "print(country)"
   ]
  },
  {
   "cell_type": "code",
   "execution_count": 4,
   "metadata": {},
   "outputs": [
    {
     "data": {
      "text/plain": [
       "['서울', '여수', '부산', '대구', '제주']"
      ]
     },
     "execution_count": 4,
     "metadata": {},
     "output_type": "execute_result"
    }
   ],
   "source": [
    "# 지역명 변수\n",
    "\n",
    "# 주의사항 : 변수 이름을 숫자로 시작하지 말것!!\n",
    "\n",
    "dosi = ['서울', '여수', '부산', '대구', '제주'] # list 리스트\n",
    "dosi "
   ]
  },
  {
   "cell_type": "code",
   "execution_count": 5,
   "metadata": {},
   "outputs": [
    {
     "data": {
      "text/plain": [
       "2"
      ]
     },
     "execution_count": 5,
     "metadata": {},
     "output_type": "execute_result"
    }
   ],
   "source": [
    "dosi = 1\n",
    "dosi = 2\n",
    "dosi\n",
    "dosi\n",
    "dosi"
   ]
  },
  {
   "cell_type": "code",
   "execution_count": 6,
   "metadata": {},
   "outputs": [
    {
     "name": "stdout",
     "output_type": "stream",
     "text": [
      "1\n",
      "2\n"
     ]
    },
    {
     "data": {
      "text/plain": [
       "2"
      ]
     },
     "execution_count": 6,
     "metadata": {},
     "output_type": "execute_result"
    }
   ],
   "source": [
    "dosi = 1\n",
    "print(dosi)\n",
    "dosi = 2\n",
    "print(dosi)\n",
    "dosi"
   ]
  },
  {
   "cell_type": "code",
   "execution_count": 7,
   "metadata": {},
   "outputs": [
    {
     "data": {
      "image/png": "[encoded data removed]",
      "text/plain": [
       "<Figure size 640x480 with 1 Axes>"
      ]
     },
     "metadata": {},
     "output_type": "display_data"
    }
   ],
   "source": [
    "import matplotlib.pyplot as plt\n",
    "\n",
    "# 데이터 설정\n",
    "x = ['서울', '여수', '부산', '대구', '제주']\n",
    "y = [30, 15, 45, 20, 10]\n",
    "\n",
    "# 막대 그래프 그리기\n",
    "plt.bar(x, y)\n",
    "\n",
    "# 그래프 제목 및 축 레이블 설정\n",
    "plt.title('도시별 판매량')\n",
    "plt.xlabel('도시')\n",
    "plt.ylabel('판매량')\n",
    "\n",
    "# 그래프 출력\n",
    "plt.show()"
   ]
  },
  {
   "cell_type": "code",
   "execution_count": 8,
   "metadata": {},
   "outputs": [
    {
     "data": {
      "text/plain": [
       "[3, 1, 2, 4, 1]"
      ]
     },
     "execution_count": 8,
     "metadata": {},
     "output_type": "execute_result"
    }
   ],
   "source": [
    "# 도시별 점포수 변수\n",
    "\n",
    "cnt_stores = [3,1,2,4,1]\n",
    "cnt_stores"
   ]
  },
  {
   "cell_type": "code",
   "execution_count": 9,
   "metadata": {},
   "outputs": [
    {
     "data": {
      "text/plain": [
       "2"
      ]
     },
     "execution_count": 9,
     "metadata": {},
     "output_type": "execute_result"
    }
   ],
   "source": [
    "# 지역의 갯수 확인\n",
    "\n",
    "cities = ['서울', '부산']\n",
    "len(cities) # 갯수 len <-- length"
   ]
  },
  {
   "cell_type": "code",
   "execution_count": 10,
   "metadata": {},
   "outputs": [
    {
     "name": "stdout",
     "output_type": "stream",
     "text": [
      "[1, 1, 2, 3, 4]\n"
     ]
    },
    {
     "data": {
      "text/plain": [
       "[1, 1, 2, 3, 4]"
      ]
     },
     "execution_count": 10,
     "metadata": {},
     "output_type": "execute_result"
    }
   ],
   "source": [
    "# 점포수 정렬 - default ascending\n",
    "\n",
    "cnt_stores.sort()\n",
    "print(cnt_stores)\n",
    "\n",
    "# 모든 에러의 근원은 99% 오타다!!\n",
    "# 막히면 .... 머냐 라고 친다\n",
    "cnt_stores"
   ]
  },
  {
   "cell_type": "code",
   "execution_count": 11,
   "metadata": {},
   "outputs": [
    {
     "name": "stdout",
     "output_type": "stream",
     "text": [
      "[4, 3, 2, 1, 1]\n"
     ]
    }
   ],
   "source": [
    "# 점포수 정렬 - 내림차순\n",
    "\n",
    "cnt_stores.sort(reverse=True)\n",
    "print(cnt_stores)"
   ]
  },
  {
   "cell_type": "code",
   "execution_count": 12,
   "metadata": {},
   "outputs": [
    {
     "data": {
      "text/plain": [
       "[4, 3, 2, 1, 1, 4]"
      ]
     },
     "execution_count": 12,
     "metadata": {},
     "output_type": "execute_result"
    }
   ],
   "source": [
    "# 요소 추가\n",
    "\n",
    "cnt_stores.append(4)\n",
    "cnt_stores\n",
    "\n",
    "# 위의 코드에서는 cnt_stores 리스트에 append() 메서드를 사용하여 숫자 4를 추가합니다. \n",
    "# 그리고 print() 함수를 사용하여 수정된 리스트를 출력합니다."
   ]
  },
  {
   "cell_type": "markdown",
   "metadata": {},
   "source": [
    "- 리스트 처리 연습"
   ]
  },
  {
   "cell_type": "code",
   "execution_count": 13,
   "metadata": {},
   "outputs": [
    {
     "name": "stdout",
     "output_type": "stream",
     "text": [
      "[]\n",
      "0\n",
      "[3]\n",
      "1\n",
      "[3, 3]\n",
      "2\n",
      "[3, 3, 3]\n"
     ]
    },
    {
     "data": {
      "text/plain": [
       "[3, 3, 3]"
      ]
     },
     "execution_count": 13,
     "metadata": {},
     "output_type": "execute_result"
    }
   ],
   "source": [
    "nums = []\n",
    "print(nums) #  empty list \n",
    "\n",
    "for i in range(3): # 반복 -- for ~~~~ \n",
    "    print(i) # 몇번째 작업인지를 출력\n",
    "    nums.append(3)\n",
    "    print(nums) # nums의 현재 상태를 출력\n",
    "nums    "
   ]
  },
  {
   "cell_type": "code",
   "execution_count": 14,
   "metadata": {},
   "outputs": [
    {
     "name": "stdout",
     "output_type": "stream",
     "text": [
      "브이  조아\n",
      "진  조아\n"
     ]
    }
   ],
   "source": [
    "for x in ['브이', '진']: # 반복 -- for ~~~~ \n",
    "    print(x, ' 조아') # 몇번째 작업인지를 출력\n"
   ]
  },
  {
   "cell_type": "code",
   "execution_count": 15,
   "metadata": {},
   "outputs": [
    {
     "data": {
      "image/png": "[encoded data removed]",
      "text/plain": [
       "<Figure size 1000x300 with 1 Axes>"
      ]
     },
     "metadata": {},
     "output_type": "display_data"
    },
    {
     "data": {
      "image/png": "[encoded data removed]",
      "text/plain": [
       "<Figure size 1000x300 with 1 Axes>"
      ]
     },
     "metadata": {},
     "output_type": "display_data"
    }
   ],
   "source": [
    "for x in ['브이', '진']: # 반복 -- for ~~~~ \n",
    "    plt.figure(figsize=(10,3))\n",
    "    plt.bar([x, ' 조아'], [0,1], color='orange') \n",
    "    plt.show()"
   ]
  },
  {
   "cell_type": "code",
   "execution_count": 16,
   "metadata": {},
   "outputs": [
    {
     "data": {
      "image/png": "[encoded data removed]",
      "text/plain": [
       "<Figure size 640x480 with 1 Axes>"
      ]
     },
     "metadata": {},
     "output_type": "display_data"
    },
    {
     "data": {
      "image/png": "[encoded data removed]",
      "text/plain": [
       "<Figure size 640x480 with 1 Axes>"
      ]
     },
     "metadata": {},
     "output_type": "display_data"
    }
   ],
   "source": [
    "for x in ['브이', '진']: # 반복 -- for ~~~~ \n",
    "    plt.bar([x, ' 조아'], [0,1]) \n",
    "    plt.show()"
   ]
  },
  {
   "cell_type": "markdown",
   "metadata": {},
   "source": [
    "- [mini 연습문제] 아래 주어진 리스트 priceList에서 순서대로 한 값씩을 출력하는 반복문 for loop 코드를 작성하라"
   ]
  },
  {
   "cell_type": "code",
   "execution_count": 17,
   "metadata": {},
   "outputs": [
    {
     "name": "stdout",
     "output_type": "stream",
     "text": [
      "27\n",
      "35\n",
      "12\n",
      "29\n",
      "47\n"
     ]
    }
   ],
   "source": [
    "# 다섯개의 상품 가격이 하나의 리스트에 들어있다고 가정\n",
    "\n",
    "priceList = [27, 35, 12, 29, 47]\n",
    "\n",
    "for x in priceList:\n",
    "    print(x)"
   ]
  },
  {
   "cell_type": "code",
   "execution_count": 18,
   "metadata": {},
   "outputs": [
    {
     "data": {
      "text/plain": [
       "[3, 3, 3]"
      ]
     },
     "execution_count": 18,
     "metadata": {},
     "output_type": "execute_result"
    }
   ],
   "source": [
    "nums"
   ]
  },
  {
   "cell_type": "code",
   "execution_count": 19,
   "metadata": {},
   "outputs": [
    {
     "name": "stdout",
     "output_type": "stream",
     "text": [
      "[3, 3, 3, 3, 3, 3]\n",
      "[3, 3, 3]\n",
      "[3, 3, 3, 3, 3, 3]\n"
     ]
    }
   ],
   "source": [
    "nums + nums\n",
    "\n",
    "# 하나의 코드셀에 여러 출력이 있으면 마지막 출력만 보여짐\n",
    "# print() display() 등의 명령은 중간에 있는 출력도 보여지도록 강제함\n",
    "\n",
    "print(nums + nums)\n",
    "print(nums)\n",
    "nums = nums + nums\n",
    "print(nums)\n"
   ]
  },
  {
   "cell_type": "markdown",
   "metadata": {},
   "source": [
    "- 리스트 끼리를 더하는 표시의 연산(+) 는 두 개의 리스트를 하나로 결합하는 기능\n",
    "- concatenate 한다"
   ]
  },
  {
   "cell_type": "code",
   "execution_count": 20,
   "metadata": {},
   "outputs": [
    {
     "name": "stdout",
     "output_type": "stream",
     "text": [
      "실행된거임\n"
     ]
    }
   ],
   "source": [
    "nums = [3,2,1]\n",
    "print('실행된거임')"
   ]
  },
  {
   "cell_type": "code",
   "execution_count": 21,
   "metadata": {},
   "outputs": [
    {
     "data": {
      "text/plain": [
       "[3, 2, 1, 3, 2, 1]"
      ]
     },
     "execution_count": 21,
     "metadata": {},
     "output_type": "execute_result"
    }
   ],
   "source": [
    "nums.extend(nums)  # extend 잘안씀. 그런데 의미는 concatenate. 문자열을 붙이기\n",
    "nums"
   ]
  },
  {
   "cell_type": "code",
   "execution_count": null,
   "metadata": {},
   "outputs": [],
   "source": []
  },
  {
   "cell_type": "markdown",
   "metadata": {},
   "source": []
  },
  {
   "cell_type": "code",
   "execution_count": 22,
   "metadata": {
    "scrolled": false
   },
   "outputs": [
    {
     "data": {
      "text/plain": [
       "[3, 2, 1, 'y', 3, 2, 1]"
      ]
     },
     "execution_count": 22,
     "metadata": {},
     "output_type": "execute_result"
    }
   ],
   "source": [
    "nums.insert(3, 'y')\n",
    "\n",
    "# 3번위치, 즉 네번째 자리에 지정된 값을 원소로 추가\n",
    "\n",
    "nums"
   ]
  },
  {
   "cell_type": "code",
   "execution_count": 23,
   "metadata": {},
   "outputs": [
    {
     "data": {
      "text/plain": [
       "[2, 1, 'y', 3, 2, 1]"
      ]
     },
     "execution_count": 23,
     "metadata": {},
     "output_type": "execute_result"
    }
   ],
   "source": [
    "del nums[:1] # 1번 자리 까지의 원소들을 삭제\n",
    "\n",
    "nums\n"
   ]
  },
  {
   "cell_type": "markdown",
   "metadata": {},
   "source": [
    "- [mini 연습문제] 앞서 사용했던 priceList 리스트에서 4번째 이후의 값들을 삭제하라\n"
   ]
  },
  {
   "cell_type": "code",
   "execution_count": 24,
   "metadata": {},
   "outputs": [
    {
     "name": "stdout",
     "output_type": "stream",
     "text": [
      "['y', 1, 2, 3]\n"
     ]
    },
    {
     "data": {
      "text/plain": [
       "[1, 2, 3]"
      ]
     },
     "execution_count": 24,
     "metadata": {},
     "output_type": "execute_result"
    }
   ],
   "source": [
    "nums = ['y',1,2,3]\n",
    "print(nums)\n",
    "nums.remove('y')\n",
    "nums"
   ]
  },
  {
   "cell_type": "code",
   "execution_count": 25,
   "metadata": {},
   "outputs": [
    {
     "data": {
      "text/plain": [
       "[1, 2, 'y', 3]"
      ]
     },
     "execution_count": 25,
     "metadata": {},
     "output_type": "execute_result"
    }
   ],
   "source": [
    "nums.insert(2, 'y')\n",
    "nums"
   ]
  },
  {
   "cell_type": "code",
   "execution_count": 26,
   "metadata": {},
   "outputs": [
    {
     "data": {
      "text/plain": [
       "[3, 'y', 2, 1]"
      ]
     },
     "execution_count": 26,
     "metadata": {},
     "output_type": "execute_result"
    }
   ],
   "source": [
    "nums.reverse()\n",
    "nums"
   ]
  },
  {
   "cell_type": "code",
   "execution_count": 27,
   "metadata": {},
   "outputs": [
    {
     "data": {
      "text/plain": [
       "[3, 'y', 'A', 2, 1]"
      ]
     },
     "execution_count": 27,
     "metadata": {},
     "output_type": "execute_result"
    }
   ],
   "source": [
    "# nums.remove('y')\n",
    "nums.insert(2, 'A')\n",
    "nums"
   ]
  },
  {
   "cell_type": "code",
   "execution_count": null,
   "metadata": {},
   "outputs": [],
   "source": []
  },
  {
   "cell_type": "code",
   "execution_count": 28,
   "metadata": {
    "scrolled": true
   },
   "outputs": [
    {
     "data": {
      "text/plain": [
       "[2, 3, 4]"
      ]
     },
     "execution_count": 28,
     "metadata": {},
     "output_type": "execute_result"
    }
   ],
   "source": [
    "nums = [4,2,3]\n",
    "sorted(nums)"
   ]
  },
  {
   "cell_type": "code",
   "execution_count": 29,
   "metadata": {},
   "outputs": [
    {
     "data": {
      "text/plain": [
       "[4, 2, 3]"
      ]
     },
     "execution_count": 29,
     "metadata": {},
     "output_type": "execute_result"
    }
   ],
   "source": [
    "nums # sorted 명령은 원래 값과 순서를 변경시키지 않음"
   ]
  },
  {
   "cell_type": "code",
   "execution_count": 30,
   "metadata": {},
   "outputs": [
    {
     "data": {
      "text/plain": [
       "[2, 3, 4]"
      ]
     },
     "execution_count": 30,
     "metadata": {},
     "output_type": "execute_result"
    }
   ],
   "source": [
    "nums.sort() # sort() 명령은 순서를 변경시킴\n",
    "nums"
   ]
  },
  {
   "cell_type": "code",
   "execution_count": 31,
   "metadata": {},
   "outputs": [
    {
     "data": {
      "text/plain": [
       "[2, 3]"
      ]
     },
     "execution_count": 31,
     "metadata": {},
     "output_type": "execute_result"
    }
   ],
   "source": [
    "nums1 = nums[:2]\n",
    "nums1"
   ]
  },
  {
   "cell_type": "code",
   "execution_count": 32,
   "metadata": {},
   "outputs": [
    {
     "data": {
      "text/plain": [
       "([2, 3, 2, 3, 2, 3], [2, 3])"
      ]
     },
     "execution_count": 32,
     "metadata": {},
     "output_type": "execute_result"
    }
   ],
   "source": [
    "# replicate a list # 똑같은 것 반복\n",
    "\n",
    "nums1 * 3, nums1"
   ]
  },
  {
   "cell_type": "code",
   "execution_count": 33,
   "metadata": {},
   "outputs": [
    {
     "data": {
      "text/plain": [
       "(2, 3)"
      ]
     },
     "execution_count": 33,
     "metadata": {},
     "output_type": "execute_result"
    }
   ],
   "source": [
    "min(nums1), max(nums1)"
   ]
  },
  {
   "cell_type": "code",
   "execution_count": 34,
   "metadata": {},
   "outputs": [
    {
     "data": {
      "text/plain": [
       "True"
      ]
     },
     "execution_count": 34,
     "metadata": {},
     "output_type": "execute_result"
    }
   ],
   "source": [
    "4 in nums1  # 리스트에 어떤 값이 들어있는지 체크한 결과를 돌려줌 (return)\n",
    "2 in nums1  # 리스트에 어떤 값이 들어있는지 체크한 결과를 돌려줌 (return)"
   ]
  },
  {
   "cell_type": "code",
   "execution_count": 35,
   "metadata": {},
   "outputs": [
    {
     "name": "stdout",
     "output_type": "stream",
     "text": [
      "리스트에 3 값 없음\n",
      "리스트의 내용 [4, '패션']\n"
     ]
    }
   ],
   "source": [
    "# 조건문 사용 (통제구조 control structure)\n",
    "\n",
    "listA = [4,'패션']\n",
    "\n",
    "if 3 in listA:\n",
    "    print('리스트에 3 값 포함')\n",
    "else:\n",
    "    print('리스트에 3 값 없음')\n",
    "    \n",
    "print('리스트의 내용', listA)    "
   ]
  },
  {
   "cell_type": "code",
   "execution_count": null,
   "metadata": {},
   "outputs": [],
   "source": []
  },
  {
   "cell_type": "markdown",
   "metadata": {},
   "source": [
    "## 쉬어가기 : 파이썬을 배워야할 7가지 이유\n",
    "\n",
    "- Data Science & Machine Learning\n",
    "- Main applications & more.\n",
    "- Extensive Libraries & Framework\n",
    "- Open Source.\n",
    "- Can work with other programming languages.\n",
    "- Improving productivity.\n",
    "- Jobs & Careers.\n",
    "\n",
    "https://pythonbasics.org/7-reasons-to-learn-python/"
   ]
  },
  {
   "cell_type": "code",
   "execution_count": null,
   "metadata": {},
   "outputs": [],
   "source": []
  },
  {
   "cell_type": "markdown",
   "metadata": {},
   "source": [
    "### 데이터프레임: 테이블"
   ]
  },
  {
   "cell_type": "code",
   "execution_count": 36,
   "metadata": {},
   "outputs": [
    {
     "data": {
      "text/html": [
       "<div>\n",
       "<style scoped>\n",
       "    .dataframe tbody tr th:only-of-type {\n",
       "        vertical-align: middle;\n",
       "    }\n",
       "\n",
       "    .dataframe tbody tr th {\n",
       "        vertical-align: top;\n",
       "    }\n",
       "\n",
       "    .dataframe thead th {\n",
       "        text-align: right;\n",
       "    }\n",
       "</style>\n",
       "<table border=\"1\" class=\"dataframe\">\n",
       "  <thead>\n",
       "    <tr style=\"text-align: right;\">\n",
       "      <th></th>\n",
       "      <th>0</th>\n",
       "      <th>1</th>\n",
       "      <th>2</th>\n",
       "      <th>3</th>\n",
       "      <th>4</th>\n",
       "    </tr>\n",
       "  </thead>\n",
       "  <tbody>\n",
       "    <tr>\n",
       "      <th>0</th>\n",
       "      <td>서울</td>\n",
       "      <td>여수</td>\n",
       "      <td>부산</td>\n",
       "      <td>대구</td>\n",
       "      <td>제주</td>\n",
       "    </tr>\n",
       "    <tr>\n",
       "      <th>1</th>\n",
       "      <td>3</td>\n",
       "      <td>1</td>\n",
       "      <td>2</td>\n",
       "      <td>4</td>\n",
       "      <td>1</td>\n",
       "    </tr>\n",
       "  </tbody>\n",
       "</table>\n",
       "</div>"
      ],
      "text/plain": [
       "    0   1   2   3   4\n",
       "0  서울  여수  부산  대구  제주\n",
       "1   3   1   2   4   1"
      ]
     },
     "execution_count": 36,
     "metadata": {},
     "output_type": "execute_result"
    }
   ],
   "source": [
    "# 지역명 값\n",
    "cities = ['서울', '여수', '부산', '대구', '제주']\n",
    "# 도시별 점포수 값\n",
    "cnt_stores = [3,1,2,4,1]\n",
    "\n",
    "# 데이터프레임 테이블 생성\n",
    "dfcitynstores = pd.DataFrame([cities, cnt_stores])\n",
    "dfcitynstores"
   ]
  },
  {
   "cell_type": "code",
   "execution_count": 37,
   "metadata": {},
   "outputs": [
    {
     "data": {
      "text/html": [
       "<div>\n",
       "<style scoped>\n",
       "    .dataframe tbody tr th:only-of-type {\n",
       "        vertical-align: middle;\n",
       "    }\n",
       "\n",
       "    .dataframe tbody tr th {\n",
       "        vertical-align: top;\n",
       "    }\n",
       "\n",
       "    .dataframe thead th {\n",
       "        text-align: right;\n",
       "    }\n",
       "</style>\n",
       "<table border=\"1\" class=\"dataframe\">\n",
       "  <thead>\n",
       "    <tr style=\"text-align: right;\">\n",
       "      <th></th>\n",
       "      <th>0</th>\n",
       "      <th>1</th>\n",
       "    </tr>\n",
       "  </thead>\n",
       "  <tbody>\n",
       "    <tr>\n",
       "      <th>0</th>\n",
       "      <td>서울</td>\n",
       "      <td>3</td>\n",
       "    </tr>\n",
       "    <tr>\n",
       "      <th>1</th>\n",
       "      <td>여수</td>\n",
       "      <td>1</td>\n",
       "    </tr>\n",
       "    <tr>\n",
       "      <th>2</th>\n",
       "      <td>부산</td>\n",
       "      <td>2</td>\n",
       "    </tr>\n",
       "    <tr>\n",
       "      <th>3</th>\n",
       "      <td>대구</td>\n",
       "      <td>4</td>\n",
       "    </tr>\n",
       "    <tr>\n",
       "      <th>4</th>\n",
       "      <td>제주</td>\n",
       "      <td>1</td>\n",
       "    </tr>\n",
       "  </tbody>\n",
       "</table>\n",
       "</div>"
      ],
      "text/plain": [
       "    0  1\n",
       "0  서울  3\n",
       "1  여수  1\n",
       "2  부산  2\n",
       "3  대구  4\n",
       "4  제주  1"
      ]
     },
     "execution_count": 37,
     "metadata": {},
     "output_type": "execute_result"
    }
   ],
   "source": [
    "# 행렬 바꿈\n",
    "\n",
    "dfcitynstores = dfcitynstores.T\n",
    "dfcitynstores"
   ]
  },
  {
   "cell_type": "code",
   "execution_count": 38,
   "metadata": {},
   "outputs": [
    {
     "data": {
      "text/html": [
       "<div>\n",
       "<style scoped>\n",
       "    .dataframe tbody tr th:only-of-type {\n",
       "        vertical-align: middle;\n",
       "    }\n",
       "\n",
       "    .dataframe tbody tr th {\n",
       "        vertical-align: top;\n",
       "    }\n",
       "\n",
       "    .dataframe thead th {\n",
       "        text-align: right;\n",
       "    }\n",
       "</style>\n",
       "<table border=\"1\" class=\"dataframe\">\n",
       "  <thead>\n",
       "    <tr style=\"text-align: right;\">\n",
       "      <th></th>\n",
       "      <th>0</th>\n",
       "      <th>1</th>\n",
       "    </tr>\n",
       "  </thead>\n",
       "  <tbody>\n",
       "    <tr>\n",
       "      <th>0</th>\n",
       "      <td>서울</td>\n",
       "      <td>3</td>\n",
       "    </tr>\n",
       "    <tr>\n",
       "      <th>1</th>\n",
       "      <td>여수</td>\n",
       "      <td>1</td>\n",
       "    </tr>\n",
       "    <tr>\n",
       "      <th>2</th>\n",
       "      <td>부산</td>\n",
       "      <td>2</td>\n",
       "    </tr>\n",
       "    <tr>\n",
       "      <th>3</th>\n",
       "      <td>대구</td>\n",
       "      <td>4</td>\n",
       "    </tr>\n",
       "    <tr>\n",
       "      <th>4</th>\n",
       "      <td>제주</td>\n",
       "      <td>1</td>\n",
       "    </tr>\n",
       "  </tbody>\n",
       "</table>\n",
       "</div>"
      ],
      "text/plain": [
       "    0  1\n",
       "0  서울  3\n",
       "1  여수  1\n",
       "2  부산  2\n",
       "3  대구  4\n",
       "4  제주  1"
      ]
     },
     "execution_count": 38,
     "metadata": {},
     "output_type": "execute_result"
    }
   ],
   "source": [
    "dfcitynstores.T.T # 뒤에 계속 처리를 시키면 다 하고 나서 결과 출력함"
   ]
  },
  {
   "cell_type": "code",
   "execution_count": 39,
   "metadata": {},
   "outputs": [
    {
     "data": {
      "text/html": [
       "<div>\n",
       "<style scoped>\n",
       "    .dataframe tbody tr th:only-of-type {\n",
       "        vertical-align: middle;\n",
       "    }\n",
       "\n",
       "    .dataframe tbody tr th {\n",
       "        vertical-align: top;\n",
       "    }\n",
       "\n",
       "    .dataframe thead th {\n",
       "        text-align: right;\n",
       "    }\n",
       "</style>\n",
       "<table border=\"1\" class=\"dataframe\">\n",
       "  <thead>\n",
       "    <tr style=\"text-align: right;\">\n",
       "      <th></th>\n",
       "      <th>city</th>\n",
       "      <th>cntStores</th>\n",
       "    </tr>\n",
       "  </thead>\n",
       "  <tbody>\n",
       "    <tr>\n",
       "      <th>0</th>\n",
       "      <td>서울</td>\n",
       "      <td>3</td>\n",
       "    </tr>\n",
       "    <tr>\n",
       "      <th>1</th>\n",
       "      <td>여수</td>\n",
       "      <td>1</td>\n",
       "    </tr>\n",
       "    <tr>\n",
       "      <th>2</th>\n",
       "      <td>부산</td>\n",
       "      <td>2</td>\n",
       "    </tr>\n",
       "    <tr>\n",
       "      <th>3</th>\n",
       "      <td>대구</td>\n",
       "      <td>4</td>\n",
       "    </tr>\n",
       "    <tr>\n",
       "      <th>4</th>\n",
       "      <td>제주</td>\n",
       "      <td>1</td>\n",
       "    </tr>\n",
       "  </tbody>\n",
       "</table>\n",
       "</div>"
      ],
      "text/plain": [
       "  city cntStores\n",
       "0   서울         3\n",
       "1   여수         1\n",
       "2   부산         2\n",
       "3   대구         4\n",
       "4   제주         1"
      ]
     },
     "execution_count": 39,
     "metadata": {},
     "output_type": "execute_result"
    }
   ],
   "source": [
    "# 컬럼명 변경\n",
    "\n",
    "dfcitynstores.columns = ['city', 'cntStores']\n",
    "dfcitynstores"
   ]
  },
  {
   "cell_type": "code",
   "execution_count": 40,
   "metadata": {},
   "outputs": [
    {
     "data": {
      "text/html": [
       "<div>\n",
       "<style scoped>\n",
       "    .dataframe tbody tr th:only-of-type {\n",
       "        vertical-align: middle;\n",
       "    }\n",
       "\n",
       "    .dataframe tbody tr th {\n",
       "        vertical-align: top;\n",
       "    }\n",
       "\n",
       "    .dataframe thead th {\n",
       "        text-align: right;\n",
       "    }\n",
       "</style>\n",
       "<table border=\"1\" class=\"dataframe\">\n",
       "  <thead>\n",
       "    <tr style=\"text-align: right;\">\n",
       "      <th></th>\n",
       "      <th>city</th>\n",
       "      <th>cntStores</th>\n",
       "    </tr>\n",
       "  </thead>\n",
       "  <tbody>\n",
       "    <tr>\n",
       "      <th>0</th>\n",
       "      <td>서울</td>\n",
       "      <td>3</td>\n",
       "    </tr>\n",
       "    <tr>\n",
       "      <th>1</th>\n",
       "      <td>여수</td>\n",
       "      <td>1</td>\n",
       "    </tr>\n",
       "    <tr>\n",
       "      <th>2</th>\n",
       "      <td>부산</td>\n",
       "      <td>2</td>\n",
       "    </tr>\n",
       "    <tr>\n",
       "      <th>3</th>\n",
       "      <td>대구</td>\n",
       "      <td>4</td>\n",
       "    </tr>\n",
       "    <tr>\n",
       "      <th>4</th>\n",
       "      <td>제주</td>\n",
       "      <td>1</td>\n",
       "    </tr>\n",
       "  </tbody>\n",
       "</table>\n",
       "</div>"
      ],
      "text/plain": [
       "  city cntStores\n",
       "0   서울         3\n",
       "1   여수         1\n",
       "2   부산         2\n",
       "3   대구         4\n",
       "4   제주         1"
      ]
     },
     "execution_count": 40,
     "metadata": {},
     "output_type": "execute_result"
    }
   ],
   "source": [
    "dfcitynstores # 이 이름의 데이터프레임 == 테이블 또는 표"
   ]
  },
  {
   "cell_type": "code",
   "execution_count": 41,
   "metadata": {},
   "outputs": [
    {
     "data": {
      "text/plain": [
       "(0    서울\n",
       " 1    여수\n",
       " 2    부산\n",
       " 3    대구\n",
       " 4    제주\n",
       " Name: city, dtype: object,\n",
       " 0    3\n",
       " 1    1\n",
       " 2    2\n",
       " 3    4\n",
       " 4    1\n",
       " Name: cntStores, dtype: object)"
      ]
     },
     "execution_count": 41,
     "metadata": {},
     "output_type": "execute_result"
    }
   ],
   "source": [
    "dfcitynstores.city, dfcitynstores.cntStores"
   ]
  },
  {
   "cell_type": "code",
   "execution_count": 42,
   "metadata": {},
   "outputs": [
    {
     "name": "stdout",
     "output_type": "stream",
     "text": [
      "1\n",
      "2\n"
     ]
    },
    {
     "data": {
      "text/plain": [
       "2"
      ]
     },
     "execution_count": 42,
     "metadata": {},
     "output_type": "execute_result"
    }
   ],
   "source": [
    "dosi = 1\n",
    "print(dosi)\n",
    "dosi = 2\n",
    "print(dosi)\n",
    "dosi"
   ]
  },
  {
   "cell_type": "code",
   "execution_count": 43,
   "metadata": {},
   "outputs": [
    {
     "data": {
      "text/plain": [
       "(5, 2)"
      ]
     },
     "execution_count": 43,
     "metadata": {},
     "output_type": "execute_result"
    }
   ],
   "source": [
    "dfcitynstores.shape # rc 순서 r and then c 행렬"
   ]
  },
  {
   "cell_type": "code",
   "execution_count": 44,
   "metadata": {},
   "outputs": [
    {
     "name": "stdout",
     "output_type": "stream",
     "text": [
      "<class 'pandas.core.frame.DataFrame'>\n",
      "RangeIndex: 5 entries, 0 to 4\n",
      "Data columns (total 2 columns):\n",
      " #   Column     Non-Null Count  Dtype \n",
      "---  ------     --------------  ----- \n",
      " 0   city       5 non-null      object\n",
      " 1   cntStores  5 non-null      object\n",
      "dtypes: object(2)\n",
      "memory usage: 208.0+ bytes\n"
     ]
    }
   ],
   "source": [
    "dfcitynstores.info()"
   ]
  },
  {
   "cell_type": "code",
   "execution_count": 45,
   "metadata": {},
   "outputs": [
    {
     "data": {
      "text/html": [
       "<div>\n",
       "<style scoped>\n",
       "    .dataframe tbody tr th:only-of-type {\n",
       "        vertical-align: middle;\n",
       "    }\n",
       "\n",
       "    .dataframe tbody tr th {\n",
       "        vertical-align: top;\n",
       "    }\n",
       "\n",
       "    .dataframe thead th {\n",
       "        text-align: right;\n",
       "    }\n",
       "</style>\n",
       "<table border=\"1\" class=\"dataframe\">\n",
       "  <thead>\n",
       "    <tr style=\"text-align: right;\">\n",
       "      <th></th>\n",
       "      <th>city</th>\n",
       "      <th>cntStores</th>\n",
       "    </tr>\n",
       "  </thead>\n",
       "  <tbody>\n",
       "    <tr>\n",
       "      <th>0</th>\n",
       "      <td>서울</td>\n",
       "      <td>3</td>\n",
       "    </tr>\n",
       "    <tr>\n",
       "      <th>1</th>\n",
       "      <td>여수</td>\n",
       "      <td>1</td>\n",
       "    </tr>\n",
       "    <tr>\n",
       "      <th>2</th>\n",
       "      <td>부산</td>\n",
       "      <td>2</td>\n",
       "    </tr>\n",
       "    <tr>\n",
       "      <th>3</th>\n",
       "      <td>대구</td>\n",
       "      <td>4</td>\n",
       "    </tr>\n",
       "    <tr>\n",
       "      <th>4</th>\n",
       "      <td>제주</td>\n",
       "      <td>1</td>\n",
       "    </tr>\n",
       "  </tbody>\n",
       "</table>\n",
       "</div>"
      ],
      "text/plain": [
       "  city cntStores\n",
       "0   서울         3\n",
       "1   여수         1\n",
       "2   부산         2\n",
       "3   대구         4\n",
       "4   제주         1"
      ]
     },
     "execution_count": 45,
     "metadata": {},
     "output_type": "execute_result"
    }
   ],
   "source": [
    "dfcitynstores"
   ]
  },
  {
   "cell_type": "code",
   "execution_count": 46,
   "metadata": {},
   "outputs": [
    {
     "data": {
      "text/html": [
       "<div>\n",
       "<style scoped>\n",
       "    .dataframe tbody tr th:only-of-type {\n",
       "        vertical-align: middle;\n",
       "    }\n",
       "\n",
       "    .dataframe tbody tr th {\n",
       "        vertical-align: top;\n",
       "    }\n",
       "\n",
       "    .dataframe thead th {\n",
       "        text-align: right;\n",
       "    }\n",
       "</style>\n",
       "<table border=\"1\" class=\"dataframe\">\n",
       "  <thead>\n",
       "    <tr style=\"text-align: right;\">\n",
       "      <th></th>\n",
       "    </tr>\n",
       "  </thead>\n",
       "  <tbody>\n",
       "  </tbody>\n",
       "</table>\n",
       "</div>"
      ],
      "text/plain": [
       "Empty DataFrame\n",
       "Columns: []\n",
       "Index: []"
      ]
     },
     "metadata": {},
     "output_type": "display_data"
    },
    {
     "data": {
      "text/html": [
       "<div>\n",
       "<style scoped>\n",
       "    .dataframe tbody tr th:only-of-type {\n",
       "        vertical-align: middle;\n",
       "    }\n",
       "\n",
       "    .dataframe tbody tr th {\n",
       "        vertical-align: top;\n",
       "    }\n",
       "\n",
       "    .dataframe thead th {\n",
       "        text-align: right;\n",
       "    }\n",
       "</style>\n",
       "<table border=\"1\" class=\"dataframe\">\n",
       "  <thead>\n",
       "    <tr style=\"text-align: right;\">\n",
       "      <th></th>\n",
       "      <th>city</th>\n",
       "      <th>cntStores</th>\n",
       "    </tr>\n",
       "  </thead>\n",
       "  <tbody>\n",
       "    <tr>\n",
       "      <th>0</th>\n",
       "      <td>서울</td>\n",
       "      <td>3</td>\n",
       "    </tr>\n",
       "    <tr>\n",
       "      <th>1</th>\n",
       "      <td>여수</td>\n",
       "      <td>1</td>\n",
       "    </tr>\n",
       "    <tr>\n",
       "      <th>2</th>\n",
       "      <td>부산</td>\n",
       "      <td>2</td>\n",
       "    </tr>\n",
       "    <tr>\n",
       "      <th>3</th>\n",
       "      <td>대구</td>\n",
       "      <td>4</td>\n",
       "    </tr>\n",
       "    <tr>\n",
       "      <th>4</th>\n",
       "      <td>제주</td>\n",
       "      <td>1</td>\n",
       "    </tr>\n",
       "  </tbody>\n",
       "</table>\n",
       "</div>"
      ],
      "text/plain": [
       "  city  cntStores\n",
       "0   서울          3\n",
       "1   여수          1\n",
       "2   부산          2\n",
       "3   대구          4\n",
       "4   제주          1"
      ]
     },
     "execution_count": 46,
     "metadata": {},
     "output_type": "execute_result"
    }
   ],
   "source": [
    "# 데이터프레임 테이블 생성\n",
    "\n",
    "dfcitynstores = pd.DataFrame() # 빈 데이터 프레임 생성\n",
    "display(dfcitynstores) # 다음줄에 명령이 있어도 생략하지 않고 화면에 보여줘\n",
    "\n",
    "dfcitynstores['city'] = cities  # 도시 리스트를 컬럼으로 추가\n",
    "dfcitynstores['cntStores'] = cnt_stores\n",
    "\n",
    "dfcitynstores"
   ]
  },
  {
   "cell_type": "code",
   "execution_count": 47,
   "metadata": {},
   "outputs": [
    {
     "data": {
      "text/html": [
       "<div>\n",
       "<style scoped>\n",
       "    .dataframe tbody tr th:only-of-type {\n",
       "        vertical-align: middle;\n",
       "    }\n",
       "\n",
       "    .dataframe tbody tr th {\n",
       "        vertical-align: top;\n",
       "    }\n",
       "\n",
       "    .dataframe thead th {\n",
       "        text-align: right;\n",
       "    }\n",
       "</style>\n",
       "<table border=\"1\" class=\"dataframe\">\n",
       "  <thead>\n",
       "    <tr style=\"text-align: right;\">\n",
       "      <th></th>\n",
       "      <th>city</th>\n",
       "      <th>cntStores</th>\n",
       "    </tr>\n",
       "  </thead>\n",
       "  <tbody>\n",
       "    <tr>\n",
       "      <th>1</th>\n",
       "      <td>여수</td>\n",
       "      <td>1</td>\n",
       "    </tr>\n",
       "    <tr>\n",
       "      <th>2</th>\n",
       "      <td>부산</td>\n",
       "      <td>2</td>\n",
       "    </tr>\n",
       "    <tr>\n",
       "      <th>4</th>\n",
       "      <td>제주</td>\n",
       "      <td>1</td>\n",
       "    </tr>\n",
       "  </tbody>\n",
       "</table>\n",
       "</div>"
      ],
      "text/plain": [
       "  city  cntStores\n",
       "1   여수          1\n",
       "2   부산          2\n",
       "4   제주          1"
      ]
     },
     "execution_count": 47,
     "metadata": {},
     "output_type": "execute_result"
    }
   ],
   "source": [
    "# 테이블에서 일부만 조건 적용해서 추출\n",
    "\n",
    "dfcitynstores[dfcitynstores.city=='제주'] #컬럼 값으로\n",
    "\n",
    "dfcitynstores[dfcitynstores.cntStores<=2] # 숫자인 컬럼 값으로"
   ]
  },
  {
   "cell_type": "code",
   "execution_count": 48,
   "metadata": {},
   "outputs": [
    {
     "data": {
      "text/html": [
       "<div>\n",
       "<style scoped>\n",
       "    .dataframe tbody tr th:only-of-type {\n",
       "        vertical-align: middle;\n",
       "    }\n",
       "\n",
       "    .dataframe tbody tr th {\n",
       "        vertical-align: top;\n",
       "    }\n",
       "\n",
       "    .dataframe thead th {\n",
       "        text-align: right;\n",
       "    }\n",
       "</style>\n",
       "<table border=\"1\" class=\"dataframe\">\n",
       "  <thead>\n",
       "    <tr style=\"text-align: right;\">\n",
       "      <th></th>\n",
       "      <th>city</th>\n",
       "      <th>cntStores</th>\n",
       "    </tr>\n",
       "  </thead>\n",
       "  <tbody>\n",
       "    <tr>\n",
       "      <th>4</th>\n",
       "      <td>제주</td>\n",
       "      <td>1</td>\n",
       "    </tr>\n",
       "  </tbody>\n",
       "</table>\n",
       "</div>"
      ],
      "text/plain": [
       "  city  cntStores\n",
       "4   제주          1"
      ]
     },
     "execution_count": 48,
     "metadata": {},
     "output_type": "execute_result"
    }
   ],
   "source": [
    "dfcitynstores[dfcitynstores.city=='제주'] # 제주 이외의 도시들에 대한 레코드 (행) 들만 출력"
   ]
  },
  {
   "cell_type": "code",
   "execution_count": 49,
   "metadata": {},
   "outputs": [
    {
     "data": {
      "text/plain": [
       "<BarContainer object of 5 artists>"
      ]
     },
     "execution_count": 49,
     "metadata": {},
     "output_type": "execute_result"
    },
    {
     "data": {
      "image/png": "[encoded data removed]",
      "text/plain": [
       "<Figure size 640x480 with 1 Axes>"
      ]
     },
     "metadata": {},
     "output_type": "display_data"
    }
   ],
   "source": [
    "# 데이터프레임의 데이터를 시각화 - 막대챠트\n",
    "\n",
    "plt.bar(dfcitynstores.city, dfcitynstores.cntStores)"
   ]
  },
  {
   "cell_type": "code",
   "execution_count": 50,
   "metadata": {},
   "outputs": [],
   "source": [
    "# 데이터프레임에 새로운 컬럼 추가 연습\n",
    "\n",
    "# 회원수 리스트 데이터\n",
    "cntMbr = [100,200,100,200,100]\n",
    "\n"
   ]
  },
  {
   "cell_type": "code",
   "execution_count": 51,
   "metadata": {},
   "outputs": [
    {
     "data": {
      "text/html": [
       "<div>\n",
       "<style scoped>\n",
       "    .dataframe tbody tr th:only-of-type {\n",
       "        vertical-align: middle;\n",
       "    }\n",
       "\n",
       "    .dataframe tbody tr th {\n",
       "        vertical-align: top;\n",
       "    }\n",
       "\n",
       "    .dataframe thead th {\n",
       "        text-align: right;\n",
       "    }\n",
       "</style>\n",
       "<table border=\"1\" class=\"dataframe\">\n",
       "  <thead>\n",
       "    <tr style=\"text-align: right;\">\n",
       "      <th></th>\n",
       "      <th>0</th>\n",
       "      <th>1</th>\n",
       "      <th>2</th>\n",
       "    </tr>\n",
       "  </thead>\n",
       "  <tbody>\n",
       "    <tr>\n",
       "      <th>0</th>\n",
       "      <td>4</td>\n",
       "      <td>2</td>\n",
       "      <td>3</td>\n",
       "    </tr>\n",
       "    <tr>\n",
       "      <th>1</th>\n",
       "      <td>4</td>\n",
       "      <td>2</td>\n",
       "      <td>3</td>\n",
       "    </tr>\n",
       "    <tr>\n",
       "      <th>2</th>\n",
       "      <td>4</td>\n",
       "      <td>2</td>\n",
       "      <td>3</td>\n",
       "    </tr>\n",
       "    <tr>\n",
       "      <th>3</th>\n",
       "      <td>4</td>\n",
       "      <td>2</td>\n",
       "      <td>3</td>\n",
       "    </tr>\n",
       "  </tbody>\n",
       "</table>\n",
       "</div>"
      ],
      "text/plain": [
       "   0  1  2\n",
       "0  4  2  3\n",
       "1  4  2  3\n",
       "2  4  2  3\n",
       "3  4  2  3"
      ]
     },
     "execution_count": 51,
     "metadata": {},
     "output_type": "execute_result"
    }
   ],
   "source": [
    "# 중첩된 다차원 리스트를 바로 데이터프레임으로 변경도 유용\n",
    "\n",
    "# 리스트\n",
    "vecA = [4,2,3]\n",
    "# 리스트의 리스트\n",
    "vecList = [vecA,vecA,vecA,vecA]\n",
    "\n",
    "# 리스트의 리스트를 데이터프레임 테이블로\n",
    "pd.DataFrame(vecList)"
   ]
  },
  {
   "cell_type": "code",
   "execution_count": 52,
   "metadata": {},
   "outputs": [
    {
     "name": "stdout",
     "output_type": "stream",
     "text": [
      "[[4, 2, 3], [4, 2, 3], [4, 2, 3], [4, 2, 3]]\n"
     ]
    },
    {
     "data": {
      "text/html": [
       "<div>\n",
       "<style scoped>\n",
       "    .dataframe tbody tr th:only-of-type {\n",
       "        vertical-align: middle;\n",
       "    }\n",
       "\n",
       "    .dataframe tbody tr th {\n",
       "        vertical-align: top;\n",
       "    }\n",
       "\n",
       "    .dataframe thead th {\n",
       "        text-align: right;\n",
       "    }\n",
       "</style>\n",
       "<table border=\"1\" class=\"dataframe\">\n",
       "  <thead>\n",
       "    <tr style=\"text-align: right;\">\n",
       "      <th></th>\n",
       "      <th>0</th>\n",
       "      <th>1</th>\n",
       "      <th>2</th>\n",
       "    </tr>\n",
       "  </thead>\n",
       "  <tbody>\n",
       "    <tr>\n",
       "      <th>0</th>\n",
       "      <td>4</td>\n",
       "      <td>2</td>\n",
       "      <td>3</td>\n",
       "    </tr>\n",
       "    <tr>\n",
       "      <th>1</th>\n",
       "      <td>4</td>\n",
       "      <td>2</td>\n",
       "      <td>3</td>\n",
       "    </tr>\n",
       "    <tr>\n",
       "      <th>2</th>\n",
       "      <td>4</td>\n",
       "      <td>2</td>\n",
       "      <td>3</td>\n",
       "    </tr>\n",
       "    <tr>\n",
       "      <th>3</th>\n",
       "      <td>4</td>\n",
       "      <td>2</td>\n",
       "      <td>3</td>\n",
       "    </tr>\n",
       "  </tbody>\n",
       "</table>\n",
       "</div>"
      ],
      "text/plain": [
       "   0  1  2\n",
       "0  4  2  3\n",
       "1  4  2  3\n",
       "2  4  2  3\n",
       "3  4  2  3"
      ]
     },
     "execution_count": 52,
     "metadata": {},
     "output_type": "execute_result"
    }
   ],
   "source": [
    "# 리스트\n",
    "a = [4,2,3]\n",
    "# 리스트의 리스트\n",
    "a = [a,a,a,a]\n",
    "print(a)\n",
    "\n",
    "\n",
    "# 리스트의 리스트를 데이터프레임 테이블로\n",
    "pd.DataFrame(a)"
   ]
  },
  {
   "cell_type": "markdown",
   "metadata": {},
   "source": [
    "## 데이터 불러오기 - 판매데이터"
   ]
  },
  {
   "cell_type": "code",
   "execution_count": 53,
   "metadata": {},
   "outputs": [],
   "source": [
    "# 판매내역 테이블 불러오기\n",
    "sales = pd.read_csv(dataPath + 'brk_salesmast01.csv', encoding='euc-kr')\n",
    "sales = sales.drop(sales.columns[0], axis=1)\n",
    "\n",
    "# 상품 테이블 불러오기\n",
    "itemmast = pd.read_csv(dataPath + 'brk_itemmast01.csv', encoding='euc-kr')\n",
    "itemmast = itemmast.drop(itemmast.columns[0], axis=1)\n",
    "\n",
    "# 고객 테이블 불러오기\n",
    "custmast = pd.read_csv(dataPath + 'brk_custmast01.csv', encoding='euc-kr')\n",
    "custmast = custmast.drop(custmast.columns[0], axis=1)\n",
    "\n"
   ]
  },
  {
   "cell_type": "code",
   "execution_count": 54,
   "metadata": {},
   "outputs": [
    {
     "data": {
      "text/html": [
       "<div>\n",
       "<style scoped>\n",
       "    .dataframe tbody tr th:only-of-type {\n",
       "        vertical-align: middle;\n",
       "    }\n",
       "\n",
       "    .dataframe tbody tr th {\n",
       "        vertical-align: top;\n",
       "    }\n",
       "\n",
       "    .dataframe thead th {\n",
       "        text-align: right;\n",
       "    }\n",
       "</style>\n",
       "<table border=\"1\" class=\"dataframe\">\n",
       "  <thead>\n",
       "    <tr style=\"text-align: right;\">\n",
       "      <th></th>\n",
       "      <th>cust_id</th>\n",
       "      <th>sex</th>\n",
       "      <th>area</th>\n",
       "      <th>birthyr</th>\n",
       "      <th>hh_income</th>\n",
       "      <th>age</th>\n",
       "      <th>marital</th>\n",
       "      <th>ranseq</th>\n",
       "      <th>signup_date</th>\n",
       "    </tr>\n",
       "  </thead>\n",
       "  <tbody>\n",
       "    <tr>\n",
       "      <th>0</th>\n",
       "      <td>B100047771</td>\n",
       "      <td>F</td>\n",
       "      <td>inchon</td>\n",
       "      <td>1997</td>\n",
       "      <td>43000</td>\n",
       "      <td>24</td>\n",
       "      <td>미혼</td>\n",
       "      <td>0</td>\n",
       "      <td>2018-02-17 11:11:27.243860</td>\n",
       "    </tr>\n",
       "    <tr>\n",
       "      <th>1</th>\n",
       "      <td>B100060077</td>\n",
       "      <td>F</td>\n",
       "      <td>seoul</td>\n",
       "      <td>1996</td>\n",
       "      <td>26000</td>\n",
       "      <td>25</td>\n",
       "      <td>미혼</td>\n",
       "      <td>1</td>\n",
       "      <td>2018-05-14 11:11:27.243860</td>\n",
       "    </tr>\n",
       "    <tr>\n",
       "      <th>2</th>\n",
       "      <td>B100048415</td>\n",
       "      <td>F</td>\n",
       "      <td>seoul</td>\n",
       "      <td>1991</td>\n",
       "      <td>41000</td>\n",
       "      <td>30</td>\n",
       "      <td>미혼</td>\n",
       "      <td>2</td>\n",
       "      <td>2016-09-30 11:11:27.243860</td>\n",
       "    </tr>\n",
       "    <tr>\n",
       "      <th>3</th>\n",
       "      <td>B100023217</td>\n",
       "      <td>M</td>\n",
       "      <td>gyunggi</td>\n",
       "      <td>1981</td>\n",
       "      <td>50000</td>\n",
       "      <td>40</td>\n",
       "      <td>기혼</td>\n",
       "      <td>3</td>\n",
       "      <td>2016-05-30 11:11:27.243860</td>\n",
       "    </tr>\n",
       "    <tr>\n",
       "      <th>4</th>\n",
       "      <td>B100057806</td>\n",
       "      <td>F</td>\n",
       "      <td>gyunggi</td>\n",
       "      <td>1990</td>\n",
       "      <td>68000</td>\n",
       "      <td>31</td>\n",
       "      <td>미혼</td>\n",
       "      <td>4</td>\n",
       "      <td>2017-04-08 11:11:27.243860</td>\n",
       "    </tr>\n",
       "  </tbody>\n",
       "</table>\n",
       "</div>"
      ],
      "text/plain": [
       "      cust_id sex     area  birthyr  hh_income  age marital  ranseq  \\\n",
       "0  B100047771   F   inchon     1997      43000   24      미혼       0   \n",
       "1  B100060077   F    seoul     1996      26000   25      미혼       1   \n",
       "2  B100048415   F    seoul     1991      41000   30      미혼       2   \n",
       "3  B100023217   M  gyunggi     1981      50000   40      기혼       3   \n",
       "4  B100057806   F  gyunggi     1990      68000   31      미혼       4   \n",
       "\n",
       "                  signup_date  \n",
       "0  2018-02-17 11:11:27.243860  \n",
       "1  2018-05-14 11:11:27.243860  \n",
       "2  2016-09-30 11:11:27.243860  \n",
       "3  2016-05-30 11:11:27.243860  \n",
       "4  2017-04-08 11:11:27.243860  "
      ]
     },
     "execution_count": 54,
     "metadata": {},
     "output_type": "execute_result"
    }
   ],
   "source": [
    "custmast.head()"
   ]
  },
  {
   "cell_type": "code",
   "execution_count": 55,
   "metadata": {},
   "outputs": [
    {
     "name": "stdout",
     "output_type": "stream",
     "text": [
      "1\n",
      "2\n"
     ]
    },
    {
     "data": {
      "text/plain": [
       "2"
      ]
     },
     "execution_count": 55,
     "metadata": {},
     "output_type": "execute_result"
    }
   ],
   "source": [
    "dosi = 1\n",
    "print(dosi)\n",
    "dosi = 2\n",
    "print(dosi)\n",
    "dosi"
   ]
  },
  {
   "attachments": {
    "image.png": {
     "image/png": "[encoded data removed]"
    }
   },
   "cell_type": "markdown",
   "metadata": {},
   "source": [
    "![image.png](attachment:image.png)"
   ]
  },
  {
   "attachments": {
    "image.png": {
     "image/png": "[encoded data removed]"
    }
   },
   "cell_type": "markdown",
   "metadata": {},
   "source": [
    "![image.png](attachment:image.png)"
   ]
  },
  {
   "cell_type": "code",
   "execution_count": 56,
   "metadata": {},
   "outputs": [
    {
     "name": "stdout",
     "output_type": "stream",
     "text": [
      "(958, 11)\n"
     ]
    },
    {
     "data": {
      "text/html": [
       "<div>\n",
       "<style scoped>\n",
       "    .dataframe tbody tr th:only-of-type {\n",
       "        vertical-align: middle;\n",
       "    }\n",
       "\n",
       "    .dataframe tbody tr th {\n",
       "        vertical-align: top;\n",
       "    }\n",
       "\n",
       "    .dataframe thead th {\n",
       "        text-align: right;\n",
       "    }\n",
       "</style>\n",
       "<table border=\"1\" class=\"dataframe\">\n",
       "  <thead>\n",
       "    <tr style=\"text-align: right;\">\n",
       "      <th></th>\n",
       "      <th>item_id</th>\n",
       "      <th>brand_nm</th>\n",
       "      <th>unit_prc</th>\n",
       "      <th>itemyr</th>\n",
       "      <th>season</th>\n",
       "      <th>scat</th>\n",
       "      <th>ranseq</th>\n",
       "      <th>lcat</th>\n",
       "      <th>size</th>\n",
       "      <th>color</th>\n",
       "      <th>item_id_detcode</th>\n",
       "    </tr>\n",
       "  </thead>\n",
       "  <tbody>\n",
       "    <tr>\n",
       "      <th>703</th>\n",
       "      <td>ES2003909</td>\n",
       "      <td>Esteeme</td>\n",
       "      <td>100000</td>\n",
       "      <td>2020</td>\n",
       "      <td>SS</td>\n",
       "      <td>셔츠</td>\n",
       "      <td>67</td>\n",
       "      <td>여성캐주얼</td>\n",
       "      <td>100</td>\n",
       "      <td>pink</td>\n",
       "      <td>109</td>\n",
       "    </tr>\n",
       "    <tr>\n",
       "      <th>652</th>\n",
       "      <td>ES2003303</td>\n",
       "      <td>Esteeme</td>\n",
       "      <td>135000</td>\n",
       "      <td>2020</td>\n",
       "      <td>AS</td>\n",
       "      <td>셔츠</td>\n",
       "      <td>100</td>\n",
       "      <td>여성캐주얼</td>\n",
       "      <td>90</td>\n",
       "      <td>pink</td>\n",
       "      <td>103</td>\n",
       "    </tr>\n",
       "    <tr>\n",
       "      <th>587</th>\n",
       "      <td>SH1005402</td>\n",
       "      <td>Shoote</td>\n",
       "      <td>100000</td>\n",
       "      <td>2019</td>\n",
       "      <td>AS</td>\n",
       "      <td>바지</td>\n",
       "      <td>78</td>\n",
       "      <td>여성캐주얼</td>\n",
       "      <td>66</td>\n",
       "      <td>black</td>\n",
       "      <td>102</td>\n",
       "    </tr>\n",
       "    <tr>\n",
       "      <th>120</th>\n",
       "      <td>SH1000709</td>\n",
       "      <td>Shoote</td>\n",
       "      <td>60000</td>\n",
       "      <td>2018</td>\n",
       "      <td>AS</td>\n",
       "      <td>바지</td>\n",
       "      <td>20</td>\n",
       "      <td>여성캐주얼</td>\n",
       "      <td>88</td>\n",
       "      <td>navy</td>\n",
       "      <td>109</td>\n",
       "    </tr>\n",
       "    <tr>\n",
       "      <th>349</th>\n",
       "      <td>ES2002604</td>\n",
       "      <td>Esteeme</td>\n",
       "      <td>100000</td>\n",
       "      <td>2019</td>\n",
       "      <td>AS</td>\n",
       "      <td>셔츠</td>\n",
       "      <td>73</td>\n",
       "      <td>여성캐주얼</td>\n",
       "      <td>95</td>\n",
       "      <td>white</td>\n",
       "      <td>104</td>\n",
       "    </tr>\n",
       "  </tbody>\n",
       "</table>\n",
       "</div>"
      ],
      "text/plain": [
       "       item_id brand_nm  unit_prc  itemyr season scat  ranseq   lcat  size  \\\n",
       "703  ES2003909  Esteeme    100000    2020     SS   셔츠      67  여성캐주얼   100   \n",
       "652  ES2003303  Esteeme    135000    2020     AS   셔츠     100  여성캐주얼    90   \n",
       "587  SH1005402   Shoote    100000    2019     AS   바지      78  여성캐주얼    66   \n",
       "120  SH1000709   Shoote     60000    2018     AS   바지      20  여성캐주얼    88   \n",
       "349  ES2002604  Esteeme    100000    2019     AS   셔츠      73  여성캐주얼    95   \n",
       "\n",
       "     color  item_id_detcode  \n",
       "703   pink              109  \n",
       "652   pink              103  \n",
       "587  black              102  \n",
       "120   navy              109  \n",
       "349  white              104  "
      ]
     },
     "execution_count": 56,
     "metadata": {},
     "output_type": "execute_result"
    }
   ],
   "source": [
    "# 상품 테이블 보기\n",
    "\n",
    "print(itemmast.shape) # (행, 열) 의 순서\n",
    "\n",
    "itemmast.sample(5) # 무작위로 테이블(dataframe)의 5개 행만 뽑아서 (화면 출력)"
   ]
  },
  {
   "cell_type": "code",
   "execution_count": 57,
   "metadata": {},
   "outputs": [
    {
     "name": "stdout",
     "output_type": "stream",
     "text": [
      "(41936, 19)\n"
     ]
    },
    {
     "data": {
      "text/html": [
       "<div>\n",
       "<style scoped>\n",
       "    .dataframe tbody tr th:only-of-type {\n",
       "        vertical-align: middle;\n",
       "    }\n",
       "\n",
       "    .dataframe tbody tr th {\n",
       "        vertical-align: top;\n",
       "    }\n",
       "\n",
       "    .dataframe thead th {\n",
       "        text-align: right;\n",
       "    }\n",
       "</style>\n",
       "<table border=\"1\" class=\"dataframe\">\n",
       "  <thead>\n",
       "    <tr style=\"text-align: right;\">\n",
       "      <th></th>\n",
       "      <th>ord_id</th>\n",
       "      <th>ord_dtid</th>\n",
       "      <th>store</th>\n",
       "      <th>item_id</th>\n",
       "      <th>qty</th>\n",
       "      <th>brand_nm</th>\n",
       "      <th>unit_prc</th>\n",
       "      <th>itemyr</th>\n",
       "      <th>season</th>\n",
       "      <th>scat</th>\n",
       "      <th>ranseq</th>\n",
       "      <th>lcat</th>\n",
       "      <th>size</th>\n",
       "      <th>color</th>\n",
       "      <th>item_id_detcode</th>\n",
       "      <th>amt</th>\n",
       "      <th>cust_id</th>\n",
       "      <th>datea</th>\n",
       "      <th>date</th>\n",
       "    </tr>\n",
       "  </thead>\n",
       "  <tbody>\n",
       "    <tr>\n",
       "      <th>22431</th>\n",
       "      <td>300275043</td>\n",
       "      <td>3</td>\n",
       "      <td>Multi bupyong</td>\n",
       "      <td>SH1005805</td>\n",
       "      <td>1</td>\n",
       "      <td>Shoote</td>\n",
       "      <td>70000</td>\n",
       "      <td>2019</td>\n",
       "      <td>AS</td>\n",
       "      <td>바지</td>\n",
       "      <td>32</td>\n",
       "      <td>여성캐주얼</td>\n",
       "      <td>77</td>\n",
       "      <td>black</td>\n",
       "      <td>105</td>\n",
       "      <td>70000</td>\n",
       "      <td>B100021230</td>\n",
       "      <td>2019-09-01</td>\n",
       "      <td>2019-09-01 14:15:09.747628</td>\n",
       "    </tr>\n",
       "    <tr>\n",
       "      <th>13405</th>\n",
       "      <td>300158169</td>\n",
       "      <td>2</td>\n",
       "      <td>ONL</td>\n",
       "      <td>ES2002403</td>\n",
       "      <td>1</td>\n",
       "      <td>Esteeme</td>\n",
       "      <td>130000</td>\n",
       "      <td>2019</td>\n",
       "      <td>SS</td>\n",
       "      <td>셔츠</td>\n",
       "      <td>91</td>\n",
       "      <td>여성캐주얼</td>\n",
       "      <td>90</td>\n",
       "      <td>pink</td>\n",
       "      <td>103</td>\n",
       "      <td>130000</td>\n",
       "      <td>B100019146</td>\n",
       "      <td>2019-07-11</td>\n",
       "      <td>2019-07-11 09:44:55.753066</td>\n",
       "    </tr>\n",
       "    <tr>\n",
       "      <th>1947</th>\n",
       "      <td>300024426</td>\n",
       "      <td>1</td>\n",
       "      <td>ONL</td>\n",
       "      <td>SH1004102</td>\n",
       "      <td>2</td>\n",
       "      <td>Shoote</td>\n",
       "      <td>70000</td>\n",
       "      <td>2019</td>\n",
       "      <td>FW</td>\n",
       "      <td>바지</td>\n",
       "      <td>56</td>\n",
       "      <td>여성캐주얼</td>\n",
       "      <td>66</td>\n",
       "      <td>black</td>\n",
       "      <td>102</td>\n",
       "      <td>140000</td>\n",
       "      <td>NaN</td>\n",
       "      <td>2019-01-30</td>\n",
       "      <td>2019-01-30 19:17:12.942827</td>\n",
       "    </tr>\n",
       "    <tr>\n",
       "      <th>28686</th>\n",
       "      <td>300355059</td>\n",
       "      <td>1</td>\n",
       "      <td>Multi bupyong</td>\n",
       "      <td>SH1005706</td>\n",
       "      <td>1</td>\n",
       "      <td>Shoote</td>\n",
       "      <td>100000</td>\n",
       "      <td>2019</td>\n",
       "      <td>AS</td>\n",
       "      <td>셔츠</td>\n",
       "      <td>82</td>\n",
       "      <td>여성캐주얼</td>\n",
       "      <td>95</td>\n",
       "      <td>pink</td>\n",
       "      <td>106</td>\n",
       "      <td>100000</td>\n",
       "      <td>B100098452</td>\n",
       "      <td>2019-12-08</td>\n",
       "      <td>2019-12-08 13:47:50.158997</td>\n",
       "    </tr>\n",
       "    <tr>\n",
       "      <th>23622</th>\n",
       "      <td>300290826</td>\n",
       "      <td>1</td>\n",
       "      <td>Multi bupyong</td>\n",
       "      <td>SH1001502</td>\n",
       "      <td>2</td>\n",
       "      <td>Shoote</td>\n",
       "      <td>70000</td>\n",
       "      <td>2018</td>\n",
       "      <td>FW</td>\n",
       "      <td>셔츠</td>\n",
       "      <td>25</td>\n",
       "      <td>남성캐주얼</td>\n",
       "      <td>95</td>\n",
       "      <td>blue</td>\n",
       "      <td>102</td>\n",
       "      <td>140000</td>\n",
       "      <td>B100078284</td>\n",
       "      <td>2019-09-20</td>\n",
       "      <td>2019-09-20 14:58:02.029913</td>\n",
       "    </tr>\n",
       "  </tbody>\n",
       "</table>\n",
       "</div>"
      ],
      "text/plain": [
       "          ord_id  ord_dtid          store    item_id  qty brand_nm  unit_prc  \\\n",
       "22431  300275043         3  Multi bupyong  SH1005805    1   Shoote     70000   \n",
       "13405  300158169         2            ONL  ES2002403    1  Esteeme    130000   \n",
       "1947   300024426         1            ONL  SH1004102    2   Shoote     70000   \n",
       "28686  300355059         1  Multi bupyong  SH1005706    1   Shoote    100000   \n",
       "23622  300290826         1  Multi bupyong  SH1001502    2   Shoote     70000   \n",
       "\n",
       "       itemyr season scat  ranseq   lcat  size  color  item_id_detcode  \\\n",
       "22431    2019     AS   바지      32  여성캐주얼    77  black              105   \n",
       "13405    2019     SS   셔츠      91  여성캐주얼    90   pink              103   \n",
       "1947     2019     FW   바지      56  여성캐주얼    66  black              102   \n",
       "28686    2019     AS   셔츠      82  여성캐주얼    95   pink              106   \n",
       "23622    2018     FW   셔츠      25  남성캐주얼    95   blue              102   \n",
       "\n",
       "          amt     cust_id       datea                        date  \n",
       "22431   70000  B100021230  2019-09-01  2019-09-01 14:15:09.747628  \n",
       "13405  130000  B100019146  2019-07-11  2019-07-11 09:44:55.753066  \n",
       "1947   140000         NaN  2019-01-30  2019-01-30 19:17:12.942827  \n",
       "28686  100000  B100098452  2019-12-08  2019-12-08 13:47:50.158997  \n",
       "23622  140000  B100078284  2019-09-20  2019-09-20 14:58:02.029913  "
      ]
     },
     "execution_count": 57,
     "metadata": {},
     "output_type": "execute_result"
    }
   ],
   "source": [
    "# 판매 테이블 보기\n",
    "\n",
    "print(sales.shape)\n",
    "sales.sample(5)"
   ]
  },
  {
   "cell_type": "code",
   "execution_count": 58,
   "metadata": {
    "scrolled": false
   },
   "outputs": [
    {
     "name": "stdout",
     "output_type": "stream",
     "text": [
      "<class 'pandas.core.frame.DataFrame'>\n",
      "RangeIndex: 41936 entries, 0 to 41935\n",
      "Data columns (total 19 columns):\n",
      " #   Column           Non-Null Count  Dtype \n",
      "---  ------           --------------  ----- \n",
      " 0   ord_id           41936 non-null  int64 \n",
      " 1   ord_dtid         41936 non-null  int64 \n",
      " 2   store            41936 non-null  object\n",
      " 3   item_id          41936 non-null  object\n",
      " 4   qty              41936 non-null  int64 \n",
      " 5   brand_nm         41936 non-null  object\n",
      " 6   unit_prc         41936 non-null  int64 \n",
      " 7   itemyr           41936 non-null  int64 \n",
      " 8   season           41936 non-null  object\n",
      " 9   scat             41936 non-null  object\n",
      " 10  ranseq           41936 non-null  int64 \n",
      " 11  lcat             41936 non-null  object\n",
      " 12  size             41936 non-null  int64 \n",
      " 13  color            41936 non-null  object\n",
      " 14  item_id_detcode  41936 non-null  int64 \n",
      " 15  amt              41936 non-null  int64 \n",
      " 16  cust_id          28586 non-null  object\n",
      " 17  datea            41936 non-null  object\n",
      " 18  date             41936 non-null  object\n",
      "dtypes: int64(9), object(10)\n",
      "memory usage: 6.1+ MB\n"
     ]
    }
   ],
   "source": [
    "# 판매 테이블 컬럼명 확인\n",
    "\n",
    "sales.info()"
   ]
  },
  {
   "cell_type": "code",
   "execution_count": 59,
   "metadata": {},
   "outputs": [
    {
     "data": {
      "text/plain": [
       "Index(['ord_id', 'ord_dtid', 'store', 'item_id', 'qty', 'brand_nm', 'unit_prc',\n",
       "       'itemyr', 'season', 'scat', 'ranseq', 'lcat', 'size', 'color',\n",
       "       'item_id_detcode', 'amt', 'cust_id', 'datea', 'date'],\n",
       "      dtype='object')"
      ]
     },
     "execution_count": 59,
     "metadata": {},
     "output_type": "execute_result"
    }
   ],
   "source": [
    "#  컬럼명만 보기\n",
    "\n",
    "sales.columns\n",
    "\n",
    "# np.array(sales.columns)"
   ]
  },
  {
   "cell_type": "code",
   "execution_count": 60,
   "metadata": {},
   "outputs": [
    {
     "name": "stdout",
     "output_type": "stream",
     "text": [
      "(26000, 9)\n"
     ]
    },
    {
     "data": {
      "text/html": [
       "<div>\n",
       "<style scoped>\n",
       "    .dataframe tbody tr th:only-of-type {\n",
       "        vertical-align: middle;\n",
       "    }\n",
       "\n",
       "    .dataframe tbody tr th {\n",
       "        vertical-align: top;\n",
       "    }\n",
       "\n",
       "    .dataframe thead th {\n",
       "        text-align: right;\n",
       "    }\n",
       "</style>\n",
       "<table border=\"1\" class=\"dataframe\">\n",
       "  <thead>\n",
       "    <tr style=\"text-align: right;\">\n",
       "      <th></th>\n",
       "      <th>cust_id</th>\n",
       "      <th>sex</th>\n",
       "      <th>area</th>\n",
       "      <th>birthyr</th>\n",
       "      <th>hh_income</th>\n",
       "      <th>age</th>\n",
       "      <th>marital</th>\n",
       "      <th>ranseq</th>\n",
       "      <th>signup_date</th>\n",
       "    </tr>\n",
       "  </thead>\n",
       "  <tbody>\n",
       "    <tr>\n",
       "      <th>20322</th>\n",
       "      <td>B100024513</td>\n",
       "      <td>F</td>\n",
       "      <td>inchon</td>\n",
       "      <td>1990</td>\n",
       "      <td>68000</td>\n",
       "      <td>31</td>\n",
       "      <td>미혼</td>\n",
       "      <td>20322</td>\n",
       "      <td>2018-01-06 11:11:27.243860</td>\n",
       "    </tr>\n",
       "    <tr>\n",
       "      <th>15164</th>\n",
       "      <td>B100035262</td>\n",
       "      <td>M</td>\n",
       "      <td>seoul</td>\n",
       "      <td>1994</td>\n",
       "      <td>23000</td>\n",
       "      <td>27</td>\n",
       "      <td>기혼</td>\n",
       "      <td>15164</td>\n",
       "      <td>2016-10-28 11:11:27.243860</td>\n",
       "    </tr>\n",
       "    <tr>\n",
       "      <th>21476</th>\n",
       "      <td>B100010443</td>\n",
       "      <td>F</td>\n",
       "      <td>inchon</td>\n",
       "      <td>1982</td>\n",
       "      <td>83000</td>\n",
       "      <td>39</td>\n",
       "      <td>기혼</td>\n",
       "      <td>21476</td>\n",
       "      <td>2018-11-18 11:11:27.243860</td>\n",
       "    </tr>\n",
       "    <tr>\n",
       "      <th>12418</th>\n",
       "      <td>B100078050</td>\n",
       "      <td>M</td>\n",
       "      <td>gyunggi</td>\n",
       "      <td>1983</td>\n",
       "      <td>55000</td>\n",
       "      <td>38</td>\n",
       "      <td>기혼</td>\n",
       "      <td>12418</td>\n",
       "      <td>2017-11-28 11:11:27.243860</td>\n",
       "    </tr>\n",
       "    <tr>\n",
       "      <th>25119</th>\n",
       "      <td>B100022393</td>\n",
       "      <td>M</td>\n",
       "      <td>gyunggi</td>\n",
       "      <td>1991</td>\n",
       "      <td>60000</td>\n",
       "      <td>30</td>\n",
       "      <td>미혼</td>\n",
       "      <td>25119</td>\n",
       "      <td>2018-12-29 11:11:27.243860</td>\n",
       "    </tr>\n",
       "  </tbody>\n",
       "</table>\n",
       "</div>"
      ],
      "text/plain": [
       "          cust_id sex     area  birthyr  hh_income  age marital  ranseq  \\\n",
       "20322  B100024513   F   inchon     1990      68000   31      미혼   20322   \n",
       "15164  B100035262   M    seoul     1994      23000   27      기혼   15164   \n",
       "21476  B100010443   F   inchon     1982      83000   39      기혼   21476   \n",
       "12418  B100078050   M  gyunggi     1983      55000   38      기혼   12418   \n",
       "25119  B100022393   M  gyunggi     1991      60000   30      미혼   25119   \n",
       "\n",
       "                      signup_date  \n",
       "20322  2018-01-06 11:11:27.243860  \n",
       "15164  2016-10-28 11:11:27.243860  \n",
       "21476  2018-11-18 11:11:27.243860  \n",
       "12418  2017-11-28 11:11:27.243860  \n",
       "25119  2018-12-29 11:11:27.243860  "
      ]
     },
     "execution_count": 60,
     "metadata": {},
     "output_type": "execute_result"
    }
   ],
   "source": [
    "# 고객 테이블 데이터 확인\n",
    "\n",
    "print(custmast.shape) # 행과 열의 순서 --> 행렬 (RC == row and column)\n",
    "custmast.sample(5)"
   ]
  },
  {
   "cell_type": "code",
   "execution_count": 61,
   "metadata": {},
   "outputs": [
    {
     "name": "stdout",
     "output_type": "stream",
     "text": [
      "(26000, 9)\n",
      "(15565, 9)\n",
      "(958, 11)\n",
      "(958, 11)\n"
     ]
    }
   ],
   "source": [
    "# 고객리스트에는 2년간 판매내역에 있는 고객만 포함 (적절? 과거 고객이라면?)\n",
    "\n",
    "print(custmast.shape)\n",
    "custmast = custmast[custmast.cust_id.isin(sales.cust_id)]\n",
    "print(custmast.shape)\n",
    "\n",
    "# 상품리스트에는 2년간 판매내역에 있는 상품만 포함 (적절? 과거 상품이라면?)\n",
    "\n",
    "print(itemmast.shape)\n",
    "itemmast = itemmast[itemmast.item_id.isin(sales.item_id)]\n",
    "print(itemmast.shape)"
   ]
  },
  {
   "cell_type": "code",
   "execution_count": null,
   "metadata": {},
   "outputs": [],
   "source": []
  },
  {
   "cell_type": "code",
   "execution_count": null,
   "metadata": {},
   "outputs": [],
   "source": []
  },
  {
   "cell_type": "markdown",
   "metadata": {},
   "source": [
    "## 성별 연령별 고객수 분석 연습"
   ]
  },
  {
   "cell_type": "code",
   "execution_count": 62,
   "metadata": {},
   "outputs": [
    {
     "name": "stdout",
     "output_type": "stream",
     "text": [
      "(200, 4)\n"
     ]
    },
    {
     "data": {
      "text/html": [
       "<div>\n",
       "<style scoped>\n",
       "    .dataframe tbody tr th:only-of-type {\n",
       "        vertical-align: middle;\n",
       "    }\n",
       "\n",
       "    .dataframe tbody tr th {\n",
       "        vertical-align: top;\n",
       "    }\n",
       "\n",
       "    .dataframe thead th {\n",
       "        text-align: right;\n",
       "    }\n",
       "</style>\n",
       "<table border=\"1\" class=\"dataframe\">\n",
       "  <thead>\n",
       "    <tr style=\"text-align: right;\">\n",
       "      <th></th>\n",
       "      <th>cust_id</th>\n",
       "      <th>age</th>\n",
       "      <th>sex</th>\n",
       "      <th>area</th>\n",
       "    </tr>\n",
       "  </thead>\n",
       "  <tbody>\n",
       "    <tr>\n",
       "      <th>17928</th>\n",
       "      <td>B100071472</td>\n",
       "      <td>45</td>\n",
       "      <td>F</td>\n",
       "      <td>gangwon</td>\n",
       "    </tr>\n",
       "    <tr>\n",
       "      <th>19040</th>\n",
       "      <td>B100025335</td>\n",
       "      <td>22</td>\n",
       "      <td>F</td>\n",
       "      <td>gangwon</td>\n",
       "    </tr>\n",
       "    <tr>\n",
       "      <th>16025</th>\n",
       "      <td>B100015084</td>\n",
       "      <td>28</td>\n",
       "      <td>F</td>\n",
       "      <td>inchon</td>\n",
       "    </tr>\n",
       "    <tr>\n",
       "      <th>14211</th>\n",
       "      <td>B100066339</td>\n",
       "      <td>42</td>\n",
       "      <td>F</td>\n",
       "      <td>seoul</td>\n",
       "    </tr>\n",
       "    <tr>\n",
       "      <th>23549</th>\n",
       "      <td>B100060563</td>\n",
       "      <td>23</td>\n",
       "      <td>F</td>\n",
       "      <td>gangwon</td>\n",
       "    </tr>\n",
       "  </tbody>\n",
       "</table>\n",
       "</div>"
      ],
      "text/plain": [
       "          cust_id  age sex     area\n",
       "17928  B100071472   45   F  gangwon\n",
       "19040  B100025335   22   F  gangwon\n",
       "16025  B100015084   28   F   inchon\n",
       "14211  B100066339   42   F    seoul\n",
       "23549  B100060563   23   F  gangwon"
      ]
     },
     "execution_count": 62,
     "metadata": {},
     "output_type": "execute_result"
    }
   ],
   "source": [
    "# 연습용 데이터 생성 - 200명의 고객 sample\n",
    "\n",
    "cust1 = custmast[custmast.cust_id.isin(sales[['cust_id']].drop_duplicates().sample(200).cust_id)]\n",
    "cust1 = cust1[['cust_id', 'age','sex', 'area']]\n",
    "\n",
    "print(cust1.shape)\n",
    "cust1.sample(5)"
   ]
  },
  {
   "cell_type": "code",
   "execution_count": 63,
   "metadata": {},
   "outputs": [
    {
     "name": "stdout",
     "output_type": "stream",
     "text": [
      "(200, 5)\n"
     ]
    },
    {
     "data": {
      "text/html": [
       "<div>\n",
       "<style scoped>\n",
       "    .dataframe tbody tr th:only-of-type {\n",
       "        vertical-align: middle;\n",
       "    }\n",
       "\n",
       "    .dataframe tbody tr th {\n",
       "        vertical-align: top;\n",
       "    }\n",
       "\n",
       "    .dataframe thead th {\n",
       "        text-align: right;\n",
       "    }\n",
       "</style>\n",
       "<table border=\"1\" class=\"dataframe\">\n",
       "  <thead>\n",
       "    <tr style=\"text-align: right;\">\n",
       "      <th></th>\n",
       "      <th>cust_id</th>\n",
       "      <th>age</th>\n",
       "      <th>sex</th>\n",
       "      <th>area</th>\n",
       "      <th>amt</th>\n",
       "    </tr>\n",
       "  </thead>\n",
       "  <tbody>\n",
       "    <tr>\n",
       "      <th>7</th>\n",
       "      <td>B100076413</td>\n",
       "      <td>34</td>\n",
       "      <td>M</td>\n",
       "      <td>gyunggi</td>\n",
       "      <td>815000</td>\n",
       "    </tr>\n",
       "    <tr>\n",
       "      <th>76</th>\n",
       "      <td>B100010232</td>\n",
       "      <td>28</td>\n",
       "      <td>F</td>\n",
       "      <td>gyunggi</td>\n",
       "      <td>480000</td>\n",
       "    </tr>\n",
       "    <tr>\n",
       "      <th>53</th>\n",
       "      <td>B100034910</td>\n",
       "      <td>34</td>\n",
       "      <td>F</td>\n",
       "      <td>inchon</td>\n",
       "      <td>675000</td>\n",
       "    </tr>\n",
       "    <tr>\n",
       "      <th>160</th>\n",
       "      <td>B100079203</td>\n",
       "      <td>46</td>\n",
       "      <td>F</td>\n",
       "      <td>seoul</td>\n",
       "      <td>135000</td>\n",
       "    </tr>\n",
       "    <tr>\n",
       "      <th>0</th>\n",
       "      <td>B100000318</td>\n",
       "      <td>41</td>\n",
       "      <td>F</td>\n",
       "      <td>gangwon</td>\n",
       "      <td>270000</td>\n",
       "    </tr>\n",
       "  </tbody>\n",
       "</table>\n",
       "</div>"
      ],
      "text/plain": [
       "        cust_id  age sex     area     amt\n",
       "7    B100076413   34   M  gyunggi  815000\n",
       "76   B100010232   28   F  gyunggi  480000\n",
       "53   B100034910   34   F   inchon  675000\n",
       "160  B100079203   46   F    seoul  135000\n",
       "0    B100000318   41   F  gangwon  270000"
      ]
     },
     "execution_count": 63,
     "metadata": {},
     "output_type": "execute_result"
    }
   ],
   "source": [
    "# sample 고객리스트에 대한 구매금액 추가\n",
    "\n",
    "cust1amts = sales[sales.cust_id.isin(cust1.cust_id)][['cust_id', 'amt']].groupby('cust_id').sum().reset_index()\n",
    "cust1 = cust1.merge(cust1amts, how='left', on='cust_id')\n",
    "print(cust1.shape)\n",
    "cust1.sample(5)"
   ]
  },
  {
   "cell_type": "code",
   "execution_count": 64,
   "metadata": {},
   "outputs": [
    {
     "data": {
      "text/plain": [
       "F    133\n",
       "M     67\n",
       "Name: sex, dtype: int64"
      ]
     },
     "execution_count": 64,
     "metadata": {},
     "output_type": "execute_result"
    }
   ],
   "source": [
    "# 성별 고객수 집계\n",
    "\n",
    "cust1.sex.value_counts()"
   ]
  },
  {
   "cell_type": "code",
   "execution_count": 65,
   "metadata": {},
   "outputs": [
    {
     "data": {
      "text/html": [
       "<div>\n",
       "<style scoped>\n",
       "    .dataframe tbody tr th:only-of-type {\n",
       "        vertical-align: middle;\n",
       "    }\n",
       "\n",
       "    .dataframe tbody tr th {\n",
       "        vertical-align: top;\n",
       "    }\n",
       "\n",
       "    .dataframe thead th {\n",
       "        text-align: right;\n",
       "    }\n",
       "</style>\n",
       "<table border=\"1\" class=\"dataframe\">\n",
       "  <thead>\n",
       "    <tr style=\"text-align: right;\">\n",
       "      <th></th>\n",
       "      <th>sex</th>\n",
       "    </tr>\n",
       "  </thead>\n",
       "  <tbody>\n",
       "    <tr>\n",
       "      <th>F</th>\n",
       "      <td>133</td>\n",
       "    </tr>\n",
       "    <tr>\n",
       "      <th>M</th>\n",
       "      <td>67</td>\n",
       "    </tr>\n",
       "  </tbody>\n",
       "</table>\n",
       "</div>"
      ],
      "text/plain": [
       "   sex\n",
       "F  133\n",
       "M   67"
      ]
     },
     "execution_count": 65,
     "metadata": {},
     "output_type": "execute_result"
    }
   ],
   "source": [
    "# 데이터프레임의 형식으로 바꿔서 보기\n",
    "\n",
    "pd.DataFrame(cust1.sex.value_counts())"
   ]
  },
  {
   "cell_type": "code",
   "execution_count": 66,
   "metadata": {},
   "outputs": [
    {
     "data": {
      "text/plain": [
       "<Axes: >"
      ]
     },
     "execution_count": 66,
     "metadata": {},
     "output_type": "execute_result"
    },
    {
     "data": {
      "image/png": "[encoded data removed]",
      "text/plain": [
       "<Figure size 640x480 with 1 Axes>"
      ]
     },
     "metadata": {},
     "output_type": "display_data"
    }
   ],
   "source": [
    "# 성별 인원수 시각화 - 막대 챠트 작성\n",
    "\n",
    "cust1.sex.value_counts().plot(kind='bar')"
   ]
  },
  {
   "cell_type": "code",
   "execution_count": 67,
   "metadata": {},
   "outputs": [
    {
     "data": {
      "text/plain": [
       "31    16\n",
       "28    15\n",
       "27    13\n",
       "26    12\n",
       "35    12\n",
       "29    11\n",
       "30    10\n",
       "38     9\n",
       "44     8\n",
       "24     8\n",
       "41     8\n",
       "34     8\n",
       "43     7\n",
       "36     7\n",
       "32     6\n",
       "25     6\n",
       "39     6\n",
       "33     5\n",
       "42     3\n",
       "40     3\n",
       "23     3\n",
       "45     2\n",
       "56     2\n",
       "54     2\n",
       "57     2\n",
       "21     2\n",
       "60     2\n",
       "49     1\n",
       "19     1\n",
       "46     1\n",
       "61     1\n",
       "22     1\n",
       "52     1\n",
       "50     1\n",
       "58     1\n",
       "53     1\n",
       "48     1\n",
       "37     1\n",
       "51     1\n",
       "Name: age, dtype: int64"
      ]
     },
     "execution_count": 67,
     "metadata": {},
     "output_type": "execute_result"
    }
   ],
   "source": [
    "# 연령별 고객수 - 고객수순 정렬\n",
    "\n",
    "cust1.age.value_counts()"
   ]
  },
  {
   "cell_type": "code",
   "execution_count": 68,
   "metadata": {},
   "outputs": [
    {
     "data": {
      "text/html": [
       "<div>\n",
       "<style scoped>\n",
       "    .dataframe tbody tr th:only-of-type {\n",
       "        vertical-align: middle;\n",
       "    }\n",
       "\n",
       "    .dataframe tbody tr th {\n",
       "        vertical-align: top;\n",
       "    }\n",
       "\n",
       "    .dataframe thead th {\n",
       "        text-align: right;\n",
       "    }\n",
       "</style>\n",
       "<table border=\"1\" class=\"dataframe\">\n",
       "  <thead>\n",
       "    <tr style=\"text-align: right;\">\n",
       "      <th>area</th>\n",
       "      <th>gangwon</th>\n",
       "      <th>gyunggi</th>\n",
       "      <th>inchon</th>\n",
       "      <th>seoul</th>\n",
       "    </tr>\n",
       "    <tr>\n",
       "      <th>sex</th>\n",
       "      <th></th>\n",
       "      <th></th>\n",
       "      <th></th>\n",
       "      <th></th>\n",
       "    </tr>\n",
       "  </thead>\n",
       "  <tbody>\n",
       "    <tr>\n",
       "      <th>F</th>\n",
       "      <td>14</td>\n",
       "      <td>39</td>\n",
       "      <td>27</td>\n",
       "      <td>53</td>\n",
       "    </tr>\n",
       "    <tr>\n",
       "      <th>M</th>\n",
       "      <td>10</td>\n",
       "      <td>18</td>\n",
       "      <td>10</td>\n",
       "      <td>29</td>\n",
       "    </tr>\n",
       "  </tbody>\n",
       "</table>\n",
       "</div>"
      ],
      "text/plain": [
       "area  gangwon  gyunggi  inchon  seoul\n",
       "sex                                  \n",
       "F          14       39      27     53\n",
       "M          10       18      10     29"
      ]
     },
     "execution_count": 68,
     "metadata": {},
     "output_type": "execute_result"
    }
   ],
   "source": [
    "# 성별과 지역의 교차표 생성\n",
    "\n",
    "pd.crosstab(cust1.sex, cust1.area)"
   ]
  },
  {
   "cell_type": "code",
   "execution_count": 69,
   "metadata": {},
   "outputs": [
    {
     "data": {
      "text/plain": [
       "<Axes: xlabel='sex'>"
      ]
     },
     "execution_count": 69,
     "metadata": {},
     "output_type": "execute_result"
    },
    {
     "data": {
      "image/png": "[encoded data removed]",
      "text/plain": [
       "<Figure size 640x480 with 1 Axes>"
      ]
     },
     "metadata": {},
     "output_type": "display_data"
    }
   ],
   "source": [
    "# 교차표 시각화\n",
    "\n",
    "pd.crosstab(cust1.sex, cust1.area).plot(kind='bar')"
   ]
  },
  {
   "cell_type": "code",
   "execution_count": 70,
   "metadata": {},
   "outputs": [
    {
     "data": {
      "text/plain": [
       "<Axes: xlabel='area'>"
      ]
     },
     "execution_count": 70,
     "metadata": {},
     "output_type": "execute_result"
    },
    {
     "data": {
      "image/png": "[encoded data removed]",
      "text/plain": [
       "<Figure size 640x480 with 1 Axes>"
      ]
     },
     "metadata": {},
     "output_type": "display_data"
    }
   ],
   "source": [
    "# 지역과 성별 순서 변경\n",
    "\n",
    "pd.crosstab(cust1.sex, cust1.area).T.plot(kind='bar')"
   ]
  },
  {
   "cell_type": "code",
   "execution_count": null,
   "metadata": {},
   "outputs": [],
   "source": []
  },
  {
   "cell_type": "code",
   "execution_count": 71,
   "metadata": {},
   "outputs": [
    {
     "data": {
      "text/plain": [
       "19     1\n",
       "21     2\n",
       "22     1\n",
       "23     3\n",
       "24     8\n",
       "25     6\n",
       "26    12\n",
       "27    13\n",
       "28    15\n",
       "29    11\n",
       "30    10\n",
       "31    16\n",
       "32     6\n",
       "33     5\n",
       "34     8\n",
       "35    12\n",
       "36     7\n",
       "37     1\n",
       "38     9\n",
       "39     6\n",
       "40     3\n",
       "41     8\n",
       "42     3\n",
       "43     7\n",
       "44     8\n",
       "45     2\n",
       "46     1\n",
       "48     1\n",
       "49     1\n",
       "50     1\n",
       "51     1\n",
       "52     1\n",
       "53     1\n",
       "54     2\n",
       "56     2\n",
       "57     2\n",
       "58     1\n",
       "60     2\n",
       "61     1\n",
       "Name: age, dtype: int64"
      ]
     },
     "execution_count": 71,
     "metadata": {},
     "output_type": "execute_result"
    }
   ],
   "source": [
    "# 연령별 고객수 - 연령순 정렬\n",
    "\n",
    "cust1.age.value_counts().sort_index()"
   ]
  },
  {
   "cell_type": "code",
   "execution_count": 72,
   "metadata": {},
   "outputs": [
    {
     "data": {
      "text/plain": [
       "<Axes: >"
      ]
     },
     "execution_count": 72,
     "metadata": {},
     "output_type": "execute_result"
    },
    {
     "data": {
      "image/png": "[encoded data removed]",
      "text/plain": [
       "<Figure size 640x480 with 1 Axes>"
      ]
     },
     "metadata": {},
     "output_type": "display_data"
    }
   ],
   "source": [
    "# 고객 연령 분포 시각화\n",
    "\n",
    "cust1.age.value_counts().sort_index().plot(kind='bar')"
   ]
  },
  {
   "cell_type": "code",
   "execution_count": 73,
   "metadata": {},
   "outputs": [],
   "source": [
    "# [질문] 챠트를 자세히 보면 50세 막대는 없는데 잘못된 것은 아닌가?\n",
    "\n",
    "# 만일 잘못된 것이 아니라면, 챠트를 어떻게 수정해야 하는가?\n"
   ]
  },
  {
   "cell_type": "code",
   "execution_count": null,
   "metadata": {},
   "outputs": [],
   "source": []
  },
  {
   "cell_type": "code",
   "execution_count": 74,
   "metadata": {},
   "outputs": [
    {
     "data": {
      "text/html": [
       "<div>\n",
       "<style scoped>\n",
       "    .dataframe tbody tr th:only-of-type {\n",
       "        vertical-align: middle;\n",
       "    }\n",
       "\n",
       "    .dataframe tbody tr th {\n",
       "        vertical-align: top;\n",
       "    }\n",
       "\n",
       "    .dataframe thead th {\n",
       "        text-align: right;\n",
       "    }\n",
       "</style>\n",
       "<table border=\"1\" class=\"dataframe\">\n",
       "  <thead>\n",
       "    <tr style=\"text-align: right;\">\n",
       "      <th></th>\n",
       "      <th>cust_id</th>\n",
       "      <th>age</th>\n",
       "      <th>sex</th>\n",
       "      <th>area</th>\n",
       "      <th>amt</th>\n",
       "      <th>age_grp</th>\n",
       "    </tr>\n",
       "  </thead>\n",
       "  <tbody>\n",
       "    <tr>\n",
       "      <th>0</th>\n",
       "      <td>B100000318</td>\n",
       "      <td>41</td>\n",
       "      <td>F</td>\n",
       "      <td>gangwon</td>\n",
       "      <td>270000</td>\n",
       "      <td>40.0</td>\n",
       "    </tr>\n",
       "    <tr>\n",
       "      <th>1</th>\n",
       "      <td>B100065195</td>\n",
       "      <td>31</td>\n",
       "      <td>F</td>\n",
       "      <td>seoul</td>\n",
       "      <td>290000</td>\n",
       "      <td>30.0</td>\n",
       "    </tr>\n",
       "    <tr>\n",
       "      <th>2</th>\n",
       "      <td>B100004766</td>\n",
       "      <td>27</td>\n",
       "      <td>F</td>\n",
       "      <td>seoul</td>\n",
       "      <td>680000</td>\n",
       "      <td>25.0</td>\n",
       "    </tr>\n",
       "    <tr>\n",
       "      <th>3</th>\n",
       "      <td>B100009286</td>\n",
       "      <td>25</td>\n",
       "      <td>F</td>\n",
       "      <td>inchon</td>\n",
       "      <td>400000</td>\n",
       "      <td>25.0</td>\n",
       "    </tr>\n",
       "    <tr>\n",
       "      <th>4</th>\n",
       "      <td>B100054948</td>\n",
       "      <td>38</td>\n",
       "      <td>M</td>\n",
       "      <td>seoul</td>\n",
       "      <td>212000</td>\n",
       "      <td>40.0</td>\n",
       "    </tr>\n",
       "    <tr>\n",
       "      <th>...</th>\n",
       "      <td>...</td>\n",
       "      <td>...</td>\n",
       "      <td>...</td>\n",
       "      <td>...</td>\n",
       "      <td>...</td>\n",
       "      <td>...</td>\n",
       "    </tr>\n",
       "    <tr>\n",
       "      <th>195</th>\n",
       "      <td>B100097687</td>\n",
       "      <td>26</td>\n",
       "      <td>F</td>\n",
       "      <td>inchon</td>\n",
       "      <td>200000</td>\n",
       "      <td>25.0</td>\n",
       "    </tr>\n",
       "    <tr>\n",
       "      <th>196</th>\n",
       "      <td>B100087635</td>\n",
       "      <td>27</td>\n",
       "      <td>F</td>\n",
       "      <td>seoul</td>\n",
       "      <td>145000</td>\n",
       "      <td>25.0</td>\n",
       "    </tr>\n",
       "    <tr>\n",
       "      <th>197</th>\n",
       "      <td>B100031229</td>\n",
       "      <td>40</td>\n",
       "      <td>F</td>\n",
       "      <td>gyunggi</td>\n",
       "      <td>190000</td>\n",
       "      <td>40.0</td>\n",
       "    </tr>\n",
       "    <tr>\n",
       "      <th>198</th>\n",
       "      <td>B100081533</td>\n",
       "      <td>29</td>\n",
       "      <td>F</td>\n",
       "      <td>inchon</td>\n",
       "      <td>200000</td>\n",
       "      <td>30.0</td>\n",
       "    </tr>\n",
       "    <tr>\n",
       "      <th>199</th>\n",
       "      <td>B100037683</td>\n",
       "      <td>41</td>\n",
       "      <td>F</td>\n",
       "      <td>seoul</td>\n",
       "      <td>60000</td>\n",
       "      <td>40.0</td>\n",
       "    </tr>\n",
       "  </tbody>\n",
       "</table>\n",
       "<p>200 rows × 6 columns</p>\n",
       "</div>"
      ],
      "text/plain": [
       "        cust_id  age sex     area     amt  age_grp\n",
       "0    B100000318   41   F  gangwon  270000     40.0\n",
       "1    B100065195   31   F    seoul  290000     30.0\n",
       "2    B100004766   27   F    seoul  680000     25.0\n",
       "3    B100009286   25   F   inchon  400000     25.0\n",
       "4    B100054948   38   M    seoul  212000     40.0\n",
       "..          ...  ...  ..      ...     ...      ...\n",
       "195  B100097687   26   F   inchon  200000     25.0\n",
       "196  B100087635   27   F    seoul  145000     25.0\n",
       "197  B100031229   40   F  gyunggi  190000     40.0\n",
       "198  B100081533   29   F   inchon  200000     30.0\n",
       "199  B100037683   41   F    seoul   60000     40.0\n",
       "\n",
       "[200 rows x 6 columns]"
      ]
     },
     "execution_count": 74,
     "metadata": {},
     "output_type": "execute_result"
    }
   ],
   "source": [
    "# 5세 단위 연령 집단 코드 부여\n",
    "\n",
    "cust1['age_grp'] = round(cust1.age/5)*5\n",
    "cust1"
   ]
  },
  {
   "cell_type": "code",
   "execution_count": 75,
   "metadata": {},
   "outputs": [
    {
     "data": {
      "text/plain": [
       "0    41\n",
       "1    31\n",
       "2    27\n",
       "3    25\n",
       "4    38\n",
       "Name: age, dtype: int64"
      ]
     },
     "metadata": {},
     "output_type": "display_data"
    },
    {
     "data": {
      "text/plain": [
       "0    8.2\n",
       "1    6.2\n",
       "2    5.4\n",
       "3    5.0\n",
       "4    7.6\n",
       "Name: age, dtype: float64"
      ]
     },
     "metadata": {},
     "output_type": "display_data"
    },
    {
     "data": {
      "text/plain": [
       "0    8.0\n",
       "1    6.0\n",
       "2    5.0\n",
       "3    5.0\n",
       "4    8.0\n",
       "Name: age, dtype: float64"
      ]
     },
     "metadata": {},
     "output_type": "display_data"
    },
    {
     "data": {
      "text/plain": [
       "0    40.0\n",
       "1    30.0\n",
       "2    25.0\n",
       "3    25.0\n",
       "4    40.0\n",
       "Name: age, dtype: float64"
      ]
     },
     "metadata": {},
     "output_type": "display_data"
    }
   ],
   "source": [
    "# 연령구분 코드 생성 과정 step별로 살펴보기\n",
    "\n",
    "# 원래의 연령 값\n",
    "display(cust1.head(5).age)\n",
    "\n",
    "# 5세 단위로 자동 구분하기 위해 5로 나눔\n",
    "display(cust1.head(5).age/5)\n",
    "\n",
    "#  소수점을 없애기 round 반올림\n",
    "display(round(cust1.head(5).age/5))\n",
    "\n",
    "# 5로 나눴던 값을 원래로 바꾸기 위해 다시 5를 곱함\n",
    "display(round(cust1.head(5).age/5)*5)"
   ]
  },
  {
   "cell_type": "code",
   "execution_count": 76,
   "metadata": {},
   "outputs": [
    {
     "data": {
      "text/plain": [
       "<Axes: >"
      ]
     },
     "execution_count": 76,
     "metadata": {},
     "output_type": "execute_result"
    },
    {
     "data": {
      "image/png": "[encoded data removed]",
      "text/plain": [
       "<Figure size 640x480 with 1 Axes>"
      ]
     },
     "metadata": {},
     "output_type": "display_data"
    }
   ],
   "source": [
    "# 고객 연령 분포 시각화 - 연령 집단 5세 단위 기준\n",
    "\n",
    "cust1.age_grp.value_counts().sort_index().plot(kind='bar')"
   ]
  },
  {
   "cell_type": "code",
   "execution_count": 77,
   "metadata": {},
   "outputs": [
    {
     "data": {
      "text/html": [
       "<div>\n",
       "<style scoped>\n",
       "    .dataframe tbody tr th:only-of-type {\n",
       "        vertical-align: middle;\n",
       "    }\n",
       "\n",
       "    .dataframe tbody tr th {\n",
       "        vertical-align: top;\n",
       "    }\n",
       "\n",
       "    .dataframe thead th {\n",
       "        text-align: right;\n",
       "    }\n",
       "</style>\n",
       "<table border=\"1\" class=\"dataframe\">\n",
       "  <thead>\n",
       "    <tr style=\"text-align: right;\">\n",
       "      <th></th>\n",
       "      <th>cust_id</th>\n",
       "      <th>age</th>\n",
       "      <th>sex</th>\n",
       "      <th>area</th>\n",
       "      <th>amt</th>\n",
       "      <th>age_grp</th>\n",
       "    </tr>\n",
       "  </thead>\n",
       "  <tbody>\n",
       "    <tr>\n",
       "      <th>0</th>\n",
       "      <td>B100000318</td>\n",
       "      <td>41</td>\n",
       "      <td>F</td>\n",
       "      <td>gangwon</td>\n",
       "      <td>270000</td>\n",
       "      <td>40.0</td>\n",
       "    </tr>\n",
       "    <tr>\n",
       "      <th>1</th>\n",
       "      <td>B100065195</td>\n",
       "      <td>31</td>\n",
       "      <td>F</td>\n",
       "      <td>seoul</td>\n",
       "      <td>290000</td>\n",
       "      <td>30.0</td>\n",
       "    </tr>\n",
       "    <tr>\n",
       "      <th>2</th>\n",
       "      <td>B100004766</td>\n",
       "      <td>27</td>\n",
       "      <td>F</td>\n",
       "      <td>seoul</td>\n",
       "      <td>680000</td>\n",
       "      <td>30.0</td>\n",
       "    </tr>\n",
       "    <tr>\n",
       "      <th>3</th>\n",
       "      <td>B100009286</td>\n",
       "      <td>25</td>\n",
       "      <td>F</td>\n",
       "      <td>inchon</td>\n",
       "      <td>400000</td>\n",
       "      <td>20.0</td>\n",
       "    </tr>\n",
       "    <tr>\n",
       "      <th>4</th>\n",
       "      <td>B100054948</td>\n",
       "      <td>38</td>\n",
       "      <td>M</td>\n",
       "      <td>seoul</td>\n",
       "      <td>212000</td>\n",
       "      <td>40.0</td>\n",
       "    </tr>\n",
       "    <tr>\n",
       "      <th>...</th>\n",
       "      <td>...</td>\n",
       "      <td>...</td>\n",
       "      <td>...</td>\n",
       "      <td>...</td>\n",
       "      <td>...</td>\n",
       "      <td>...</td>\n",
       "    </tr>\n",
       "    <tr>\n",
       "      <th>195</th>\n",
       "      <td>B100097687</td>\n",
       "      <td>26</td>\n",
       "      <td>F</td>\n",
       "      <td>inchon</td>\n",
       "      <td>200000</td>\n",
       "      <td>30.0</td>\n",
       "    </tr>\n",
       "    <tr>\n",
       "      <th>196</th>\n",
       "      <td>B100087635</td>\n",
       "      <td>27</td>\n",
       "      <td>F</td>\n",
       "      <td>seoul</td>\n",
       "      <td>145000</td>\n",
       "      <td>30.0</td>\n",
       "    </tr>\n",
       "    <tr>\n",
       "      <th>197</th>\n",
       "      <td>B100031229</td>\n",
       "      <td>40</td>\n",
       "      <td>F</td>\n",
       "      <td>gyunggi</td>\n",
       "      <td>190000</td>\n",
       "      <td>40.0</td>\n",
       "    </tr>\n",
       "    <tr>\n",
       "      <th>198</th>\n",
       "      <td>B100081533</td>\n",
       "      <td>29</td>\n",
       "      <td>F</td>\n",
       "      <td>inchon</td>\n",
       "      <td>200000</td>\n",
       "      <td>30.0</td>\n",
       "    </tr>\n",
       "    <tr>\n",
       "      <th>199</th>\n",
       "      <td>B100037683</td>\n",
       "      <td>41</td>\n",
       "      <td>F</td>\n",
       "      <td>seoul</td>\n",
       "      <td>60000</td>\n",
       "      <td>40.0</td>\n",
       "    </tr>\n",
       "  </tbody>\n",
       "</table>\n",
       "<p>200 rows × 6 columns</p>\n",
       "</div>"
      ],
      "text/plain": [
       "        cust_id  age sex     area     amt  age_grp\n",
       "0    B100000318   41   F  gangwon  270000     40.0\n",
       "1    B100065195   31   F    seoul  290000     30.0\n",
       "2    B100004766   27   F    seoul  680000     30.0\n",
       "3    B100009286   25   F   inchon  400000     20.0\n",
       "4    B100054948   38   M    seoul  212000     40.0\n",
       "..          ...  ...  ..      ...     ...      ...\n",
       "195  B100097687   26   F   inchon  200000     30.0\n",
       "196  B100087635   27   F    seoul  145000     30.0\n",
       "197  B100031229   40   F  gyunggi  190000     40.0\n",
       "198  B100081533   29   F   inchon  200000     30.0\n",
       "199  B100037683   41   F    seoul   60000     40.0\n",
       "\n",
       "[200 rows x 6 columns]"
      ]
     },
     "execution_count": 77,
     "metadata": {},
     "output_type": "execute_result"
    }
   ],
   "source": [
    "# 10세 단위 연령 집단 코드 부여\n",
    "\n",
    "cust1['age_grp'] = round(cust1.age/10)*10\n",
    "cust1"
   ]
  },
  {
   "cell_type": "code",
   "execution_count": 78,
   "metadata": {},
   "outputs": [
    {
     "data": {
      "text/plain": [
       "Text(0.5, 1.0, '고객 연령 분포 - 10세 단위 집단')"
      ]
     },
     "execution_count": 78,
     "metadata": {},
     "output_type": "execute_result"
    },
    {
     "data": {
      "image/png": "[encoded data removed]",
      "text/plain": [
       "<Figure size 640x480 with 1 Axes>"
      ]
     },
     "metadata": {},
     "output_type": "display_data"
    }
   ],
   "source": [
    "# 고객 연령 분포 시각화 - 연령 집단 10세 단위 기준\n",
    "\n",
    "cust1.age_grp.value_counts().sort_index().plot(kind='bar')\n",
    "plt.title('고객 연령 분포 - 10세 단위 집단') # 챠트에 제목 달아주기"
   ]
  },
  {
   "cell_type": "code",
   "execution_count": 79,
   "metadata": {},
   "outputs": [
    {
     "data": {
      "text/html": [
       "<div>\n",
       "<style scoped>\n",
       "    .dataframe tbody tr th:only-of-type {\n",
       "        vertical-align: middle;\n",
       "    }\n",
       "\n",
       "    .dataframe tbody tr th {\n",
       "        vertical-align: top;\n",
       "    }\n",
       "\n",
       "    .dataframe thead th {\n",
       "        text-align: right;\n",
       "    }\n",
       "</style>\n",
       "<table border=\"1\" class=\"dataframe\">\n",
       "  <thead>\n",
       "    <tr style=\"text-align: right;\">\n",
       "      <th></th>\n",
       "      <th>cust_id</th>\n",
       "      <th>age</th>\n",
       "      <th>sex</th>\n",
       "      <th>area</th>\n",
       "      <th>amt</th>\n",
       "      <th>age_grp</th>\n",
       "    </tr>\n",
       "  </thead>\n",
       "  <tbody>\n",
       "    <tr>\n",
       "      <th>161</th>\n",
       "      <td>B100077648</td>\n",
       "      <td>19</td>\n",
       "      <td>F</td>\n",
       "      <td>seoul</td>\n",
       "      <td>845000</td>\n",
       "      <td>20.0</td>\n",
       "    </tr>\n",
       "    <tr>\n",
       "      <th>30</th>\n",
       "      <td>B100016468</td>\n",
       "      <td>21</td>\n",
       "      <td>F</td>\n",
       "      <td>seoul</td>\n",
       "      <td>240000</td>\n",
       "      <td>20.0</td>\n",
       "    </tr>\n",
       "    <tr>\n",
       "      <th>34</th>\n",
       "      <td>B100088225</td>\n",
       "      <td>21</td>\n",
       "      <td>F</td>\n",
       "      <td>seoul</td>\n",
       "      <td>90000</td>\n",
       "      <td>20.0</td>\n",
       "    </tr>\n",
       "    <tr>\n",
       "      <th>144</th>\n",
       "      <td>B100025335</td>\n",
       "      <td>22</td>\n",
       "      <td>F</td>\n",
       "      <td>gangwon</td>\n",
       "      <td>70000</td>\n",
       "      <td>20.0</td>\n",
       "    </tr>\n",
       "    <tr>\n",
       "      <th>163</th>\n",
       "      <td>B100084529</td>\n",
       "      <td>23</td>\n",
       "      <td>F</td>\n",
       "      <td>gangwon</td>\n",
       "      <td>265000</td>\n",
       "      <td>20.0</td>\n",
       "    </tr>\n",
       "    <tr>\n",
       "      <th>178</th>\n",
       "      <td>B100060563</td>\n",
       "      <td>23</td>\n",
       "      <td>F</td>\n",
       "      <td>gangwon</td>\n",
       "      <td>160000</td>\n",
       "      <td>20.0</td>\n",
       "    </tr>\n",
       "    <tr>\n",
       "      <th>85</th>\n",
       "      <td>B100085201</td>\n",
       "      <td>23</td>\n",
       "      <td>F</td>\n",
       "      <td>seoul</td>\n",
       "      <td>205000</td>\n",
       "      <td>20.0</td>\n",
       "    </tr>\n",
       "    <tr>\n",
       "      <th>135</th>\n",
       "      <td>B100070678</td>\n",
       "      <td>24</td>\n",
       "      <td>F</td>\n",
       "      <td>inchon</td>\n",
       "      <td>225000</td>\n",
       "      <td>20.0</td>\n",
       "    </tr>\n",
       "    <tr>\n",
       "      <th>60</th>\n",
       "      <td>B100084082</td>\n",
       "      <td>24</td>\n",
       "      <td>F</td>\n",
       "      <td>seoul</td>\n",
       "      <td>500000</td>\n",
       "      <td>20.0</td>\n",
       "    </tr>\n",
       "    <tr>\n",
       "      <th>94</th>\n",
       "      <td>B100036453</td>\n",
       "      <td>24</td>\n",
       "      <td>M</td>\n",
       "      <td>inchon</td>\n",
       "      <td>460000</td>\n",
       "      <td>20.0</td>\n",
       "    </tr>\n",
       "    <tr>\n",
       "      <th>95</th>\n",
       "      <td>B100050705</td>\n",
       "      <td>24</td>\n",
       "      <td>F</td>\n",
       "      <td>seoul</td>\n",
       "      <td>35000</td>\n",
       "      <td>20.0</td>\n",
       "    </tr>\n",
       "    <tr>\n",
       "      <th>26</th>\n",
       "      <td>B100080385</td>\n",
       "      <td>24</td>\n",
       "      <td>F</td>\n",
       "      <td>gyunggi</td>\n",
       "      <td>80000</td>\n",
       "      <td>20.0</td>\n",
       "    </tr>\n",
       "    <tr>\n",
       "      <th>54</th>\n",
       "      <td>B100071420</td>\n",
       "      <td>24</td>\n",
       "      <td>F</td>\n",
       "      <td>inchon</td>\n",
       "      <td>260000</td>\n",
       "      <td>20.0</td>\n",
       "    </tr>\n",
       "    <tr>\n",
       "      <th>103</th>\n",
       "      <td>B100028256</td>\n",
       "      <td>24</td>\n",
       "      <td>F</td>\n",
       "      <td>seoul</td>\n",
       "      <td>70000</td>\n",
       "      <td>20.0</td>\n",
       "    </tr>\n",
       "    <tr>\n",
       "      <th>153</th>\n",
       "      <td>B100064976</td>\n",
       "      <td>24</td>\n",
       "      <td>F</td>\n",
       "      <td>gyunggi</td>\n",
       "      <td>140000</td>\n",
       "      <td>20.0</td>\n",
       "    </tr>\n",
       "    <tr>\n",
       "      <th>125</th>\n",
       "      <td>B100033322</td>\n",
       "      <td>25</td>\n",
       "      <td>M</td>\n",
       "      <td>seoul</td>\n",
       "      <td>140000</td>\n",
       "      <td>20.0</td>\n",
       "    </tr>\n",
       "    <tr>\n",
       "      <th>19</th>\n",
       "      <td>B100056029</td>\n",
       "      <td>25</td>\n",
       "      <td>F</td>\n",
       "      <td>seoul</td>\n",
       "      <td>190000</td>\n",
       "      <td>20.0</td>\n",
       "    </tr>\n",
       "    <tr>\n",
       "      <th>3</th>\n",
       "      <td>B100009286</td>\n",
       "      <td>25</td>\n",
       "      <td>F</td>\n",
       "      <td>inchon</td>\n",
       "      <td>400000</td>\n",
       "      <td>20.0</td>\n",
       "    </tr>\n",
       "    <tr>\n",
       "      <th>51</th>\n",
       "      <td>B100069291</td>\n",
       "      <td>25</td>\n",
       "      <td>M</td>\n",
       "      <td>seoul</td>\n",
       "      <td>230000</td>\n",
       "      <td>20.0</td>\n",
       "    </tr>\n",
       "    <tr>\n",
       "      <th>66</th>\n",
       "      <td>B100090588</td>\n",
       "      <td>25</td>\n",
       "      <td>F</td>\n",
       "      <td>inchon</td>\n",
       "      <td>70000</td>\n",
       "      <td>20.0</td>\n",
       "    </tr>\n",
       "    <tr>\n",
       "      <th>36</th>\n",
       "      <td>B100065951</td>\n",
       "      <td>44</td>\n",
       "      <td>F</td>\n",
       "      <td>inchon</td>\n",
       "      <td>0</td>\n",
       "      <td>40.0</td>\n",
       "    </tr>\n",
       "    <tr>\n",
       "      <th>133</th>\n",
       "      <td>B100071472</td>\n",
       "      <td>45</td>\n",
       "      <td>F</td>\n",
       "      <td>gangwon</td>\n",
       "      <td>270000</td>\n",
       "      <td>40.0</td>\n",
       "    </tr>\n",
       "    <tr>\n",
       "      <th>47</th>\n",
       "      <td>B100016409</td>\n",
       "      <td>45</td>\n",
       "      <td>F</td>\n",
       "      <td>gyunggi</td>\n",
       "      <td>340000</td>\n",
       "      <td>40.0</td>\n",
       "    </tr>\n",
       "    <tr>\n",
       "      <th>160</th>\n",
       "      <td>B100079203</td>\n",
       "      <td>46</td>\n",
       "      <td>F</td>\n",
       "      <td>seoul</td>\n",
       "      <td>135000</td>\n",
       "      <td>50.0</td>\n",
       "    </tr>\n",
       "    <tr>\n",
       "      <th>99</th>\n",
       "      <td>B100006851</td>\n",
       "      <td>48</td>\n",
       "      <td>F</td>\n",
       "      <td>gangwon</td>\n",
       "      <td>100000</td>\n",
       "      <td>50.0</td>\n",
       "    </tr>\n",
       "    <tr>\n",
       "      <th>141</th>\n",
       "      <td>B100022745</td>\n",
       "      <td>49</td>\n",
       "      <td>F</td>\n",
       "      <td>gyunggi</td>\n",
       "      <td>230000</td>\n",
       "      <td>50.0</td>\n",
       "    </tr>\n",
       "    <tr>\n",
       "      <th>127</th>\n",
       "      <td>B100095644</td>\n",
       "      <td>50</td>\n",
       "      <td>F</td>\n",
       "      <td>seoul</td>\n",
       "      <td>60000</td>\n",
       "      <td>50.0</td>\n",
       "    </tr>\n",
       "    <tr>\n",
       "      <th>171</th>\n",
       "      <td>B100021999</td>\n",
       "      <td>51</td>\n",
       "      <td>M</td>\n",
       "      <td>gangwon</td>\n",
       "      <td>70000</td>\n",
       "      <td>50.0</td>\n",
       "    </tr>\n",
       "    <tr>\n",
       "      <th>114</th>\n",
       "      <td>B100028513</td>\n",
       "      <td>52</td>\n",
       "      <td>M</td>\n",
       "      <td>inchon</td>\n",
       "      <td>190000</td>\n",
       "      <td>50.0</td>\n",
       "    </tr>\n",
       "    <tr>\n",
       "      <th>110</th>\n",
       "      <td>B100036343</td>\n",
       "      <td>53</td>\n",
       "      <td>M</td>\n",
       "      <td>seoul</td>\n",
       "      <td>380000</td>\n",
       "      <td>50.0</td>\n",
       "    </tr>\n",
       "    <tr>\n",
       "      <th>52</th>\n",
       "      <td>B100011119</td>\n",
       "      <td>54</td>\n",
       "      <td>M</td>\n",
       "      <td>seoul</td>\n",
       "      <td>70000</td>\n",
       "      <td>50.0</td>\n",
       "    </tr>\n",
       "    <tr>\n",
       "      <th>17</th>\n",
       "      <td>B100087080</td>\n",
       "      <td>54</td>\n",
       "      <td>F</td>\n",
       "      <td>seoul</td>\n",
       "      <td>70000</td>\n",
       "      <td>50.0</td>\n",
       "    </tr>\n",
       "    <tr>\n",
       "      <th>156</th>\n",
       "      <td>B100066401</td>\n",
       "      <td>56</td>\n",
       "      <td>F</td>\n",
       "      <td>gyunggi</td>\n",
       "      <td>35000</td>\n",
       "      <td>60.0</td>\n",
       "    </tr>\n",
       "    <tr>\n",
       "      <th>35</th>\n",
       "      <td>B100065472</td>\n",
       "      <td>56</td>\n",
       "      <td>F</td>\n",
       "      <td>inchon</td>\n",
       "      <td>370000</td>\n",
       "      <td>60.0</td>\n",
       "    </tr>\n",
       "    <tr>\n",
       "      <th>87</th>\n",
       "      <td>B100058194</td>\n",
       "      <td>57</td>\n",
       "      <td>F</td>\n",
       "      <td>seoul</td>\n",
       "      <td>105000</td>\n",
       "      <td>60.0</td>\n",
       "    </tr>\n",
       "    <tr>\n",
       "      <th>33</th>\n",
       "      <td>B100004458</td>\n",
       "      <td>57</td>\n",
       "      <td>F</td>\n",
       "      <td>gyunggi</td>\n",
       "      <td>390000</td>\n",
       "      <td>60.0</td>\n",
       "    </tr>\n",
       "    <tr>\n",
       "      <th>118</th>\n",
       "      <td>B100050854</td>\n",
       "      <td>58</td>\n",
       "      <td>F</td>\n",
       "      <td>seoul</td>\n",
       "      <td>935000</td>\n",
       "      <td>60.0</td>\n",
       "    </tr>\n",
       "    <tr>\n",
       "      <th>181</th>\n",
       "      <td>B100087332</td>\n",
       "      <td>60</td>\n",
       "      <td>F</td>\n",
       "      <td>gyunggi</td>\n",
       "      <td>35000</td>\n",
       "      <td>60.0</td>\n",
       "    </tr>\n",
       "    <tr>\n",
       "      <th>71</th>\n",
       "      <td>B100098617</td>\n",
       "      <td>60</td>\n",
       "      <td>F</td>\n",
       "      <td>gyunggi</td>\n",
       "      <td>120000</td>\n",
       "      <td>60.0</td>\n",
       "    </tr>\n",
       "    <tr>\n",
       "      <th>148</th>\n",
       "      <td>B100043475</td>\n",
       "      <td>61</td>\n",
       "      <td>F</td>\n",
       "      <td>gyunggi</td>\n",
       "      <td>60000</td>\n",
       "      <td>60.0</td>\n",
       "    </tr>\n",
       "  </tbody>\n",
       "</table>\n",
       "</div>"
      ],
      "text/plain": [
       "        cust_id  age sex     area     amt  age_grp\n",
       "161  B100077648   19   F    seoul  845000     20.0\n",
       "30   B100016468   21   F    seoul  240000     20.0\n",
       "34   B100088225   21   F    seoul   90000     20.0\n",
       "144  B100025335   22   F  gangwon   70000     20.0\n",
       "163  B100084529   23   F  gangwon  265000     20.0\n",
       "178  B100060563   23   F  gangwon  160000     20.0\n",
       "85   B100085201   23   F    seoul  205000     20.0\n",
       "135  B100070678   24   F   inchon  225000     20.0\n",
       "60   B100084082   24   F    seoul  500000     20.0\n",
       "94   B100036453   24   M   inchon  460000     20.0\n",
       "95   B100050705   24   F    seoul   35000     20.0\n",
       "26   B100080385   24   F  gyunggi   80000     20.0\n",
       "54   B100071420   24   F   inchon  260000     20.0\n",
       "103  B100028256   24   F    seoul   70000     20.0\n",
       "153  B100064976   24   F  gyunggi  140000     20.0\n",
       "125  B100033322   25   M    seoul  140000     20.0\n",
       "19   B100056029   25   F    seoul  190000     20.0\n",
       "3    B100009286   25   F   inchon  400000     20.0\n",
       "51   B100069291   25   M    seoul  230000     20.0\n",
       "66   B100090588   25   F   inchon   70000     20.0\n",
       "36   B100065951   44   F   inchon       0     40.0\n",
       "133  B100071472   45   F  gangwon  270000     40.0\n",
       "47   B100016409   45   F  gyunggi  340000     40.0\n",
       "160  B100079203   46   F    seoul  135000     50.0\n",
       "99   B100006851   48   F  gangwon  100000     50.0\n",
       "141  B100022745   49   F  gyunggi  230000     50.0\n",
       "127  B100095644   50   F    seoul   60000     50.0\n",
       "171  B100021999   51   M  gangwon   70000     50.0\n",
       "114  B100028513   52   M   inchon  190000     50.0\n",
       "110  B100036343   53   M    seoul  380000     50.0\n",
       "52   B100011119   54   M    seoul   70000     50.0\n",
       "17   B100087080   54   F    seoul   70000     50.0\n",
       "156  B100066401   56   F  gyunggi   35000     60.0\n",
       "35   B100065472   56   F   inchon  370000     60.0\n",
       "87   B100058194   57   F    seoul  105000     60.0\n",
       "33   B100004458   57   F  gyunggi  390000     60.0\n",
       "118  B100050854   58   F    seoul  935000     60.0\n",
       "181  B100087332   60   F  gyunggi   35000     60.0\n",
       "71   B100098617   60   F  gyunggi  120000     60.0\n",
       "148  B100043475   61   F  gyunggi   60000     60.0"
      ]
     },
     "execution_count": 79,
     "metadata": {},
     "output_type": "execute_result"
    }
   ],
   "source": [
    "# 반올림을 사용한 연령집단 구분 부여 결과 확인\n",
    "# 연령과 연령집단 비교\n",
    "\n",
    "pd.concat([cust1.sort_values('age').head(20), cust1.sort_values('age').tail(20)])"
   ]
  },
  {
   "cell_type": "code",
   "execution_count": 80,
   "metadata": {},
   "outputs": [
    {
     "name": "stdout",
     "output_type": "stream",
     "text": [
      "[30 31 32 33]\n",
      "[6.  6.2 6.4 6.6]\n",
      "[30. 30. 30. 35.]\n",
      "[30. 30. 30. 30.]\n",
      "[30. 35. 35. 35.]\n"
     ]
    }
   ],
   "source": [
    "# 집단 나누기 연습\n",
    "\n",
    "a = np.array([30,31,32,33])\n",
    "print(a)\n",
    "print(a/5)\n",
    "\n",
    "print(np.round(a/5)*5) # 반올림\n",
    "print(np.floor(a/5)*5) # 내림\n",
    "print(np.ceil(a/5)*5)  # 올림"
   ]
  },
  {
   "cell_type": "code",
   "execution_count": null,
   "metadata": {},
   "outputs": [],
   "source": []
  },
  {
   "cell_type": "code",
   "execution_count": 81,
   "metadata": {},
   "outputs": [
    {
     "data": {
      "text/plain": [
       "(42075000, 210375.0)"
      ]
     },
     "execution_count": 81,
     "metadata": {},
     "output_type": "execute_result"
    }
   ],
   "source": [
    "# 고객별 금액에 대한 집계\n",
    "\n",
    "# 전체 고객의 합계와 # 각 고객의 평균\n",
    "cust1.amt.sum(), cust1.amt.mean()"
   ]
  },
  {
   "cell_type": "code",
   "execution_count": null,
   "metadata": {},
   "outputs": [],
   "source": []
  },
  {
   "cell_type": "code",
   "execution_count": 82,
   "metadata": {},
   "outputs": [
    {
     "data": {
      "text/html": [
       "<div>\n",
       "<style scoped>\n",
       "    .dataframe tbody tr th:only-of-type {\n",
       "        vertical-align: middle;\n",
       "    }\n",
       "\n",
       "    .dataframe tbody tr th {\n",
       "        vertical-align: top;\n",
       "    }\n",
       "\n",
       "    .dataframe thead th {\n",
       "        text-align: right;\n",
       "    }\n",
       "</style>\n",
       "<table border=\"1\" class=\"dataframe\">\n",
       "  <thead>\n",
       "    <tr style=\"text-align: right;\">\n",
       "      <th></th>\n",
       "      <th>amt</th>\n",
       "    </tr>\n",
       "    <tr>\n",
       "      <th>sex</th>\n",
       "      <th></th>\n",
       "    </tr>\n",
       "  </thead>\n",
       "  <tbody>\n",
       "    <tr>\n",
       "      <th>F</th>\n",
       "      <td>29582000</td>\n",
       "    </tr>\n",
       "    <tr>\n",
       "      <th>M</th>\n",
       "      <td>12493000</td>\n",
       "    </tr>\n",
       "  </tbody>\n",
       "</table>\n",
       "</div>"
      ],
      "text/plain": [
       "          amt\n",
       "sex          \n",
       "F    29582000\n",
       "M    12493000"
      ]
     },
     "execution_count": 82,
     "metadata": {},
     "output_type": "execute_result"
    }
   ],
   "source": [
    "# 성별 금액 집계 -- 합계\n",
    "\n",
    "cust1[['sex','amt']].groupby('sex').sum()"
   ]
  },
  {
   "cell_type": "code",
   "execution_count": 83,
   "metadata": {},
   "outputs": [
    {
     "data": {
      "text/html": [
       "<div>\n",
       "<style scoped>\n",
       "    .dataframe tbody tr th:only-of-type {\n",
       "        vertical-align: middle;\n",
       "    }\n",
       "\n",
       "    .dataframe tbody tr th {\n",
       "        vertical-align: top;\n",
       "    }\n",
       "\n",
       "    .dataframe thead th {\n",
       "        text-align: right;\n",
       "    }\n",
       "</style>\n",
       "<table border=\"1\" class=\"dataframe\">\n",
       "  <thead>\n",
       "    <tr style=\"text-align: right;\">\n",
       "      <th></th>\n",
       "      <th>sex</th>\n",
       "      <th>amt</th>\n",
       "    </tr>\n",
       "  </thead>\n",
       "  <tbody>\n",
       "    <tr>\n",
       "      <th>0</th>\n",
       "      <td>F</td>\n",
       "      <td>29582000</td>\n",
       "    </tr>\n",
       "    <tr>\n",
       "      <th>1</th>\n",
       "      <td>M</td>\n",
       "      <td>12493000</td>\n",
       "    </tr>\n",
       "  </tbody>\n",
       "</table>\n",
       "</div>"
      ],
      "text/plain": [
       "  sex       amt\n",
       "0   F  29582000\n",
       "1   M  12493000"
      ]
     },
     "execution_count": 83,
     "metadata": {},
     "output_type": "execute_result"
    }
   ],
   "source": [
    "cust1[['sex','amt']].groupby('sex').sum().reset_index() # index 값을 컬럼으로 변경"
   ]
  },
  {
   "cell_type": "code",
   "execution_count": 84,
   "metadata": {},
   "outputs": [
    {
     "data": {
      "text/html": [
       "<div>\n",
       "<style scoped>\n",
       "    .dataframe tbody tr th:only-of-type {\n",
       "        vertical-align: middle;\n",
       "    }\n",
       "\n",
       "    .dataframe tbody tr th {\n",
       "        vertical-align: top;\n",
       "    }\n",
       "\n",
       "    .dataframe thead th {\n",
       "        text-align: right;\n",
       "    }\n",
       "</style>\n",
       "<table border=\"1\" class=\"dataframe\">\n",
       "  <thead>\n",
       "    <tr style=\"text-align: right;\">\n",
       "      <th></th>\n",
       "      <th>sex</th>\n",
       "      <th>amt</th>\n",
       "    </tr>\n",
       "  </thead>\n",
       "  <tbody>\n",
       "    <tr>\n",
       "      <th>0</th>\n",
       "      <td>F</td>\n",
       "      <td>222421.052632</td>\n",
       "    </tr>\n",
       "    <tr>\n",
       "      <th>1</th>\n",
       "      <td>M</td>\n",
       "      <td>186462.686567</td>\n",
       "    </tr>\n",
       "  </tbody>\n",
       "</table>\n",
       "</div>"
      ],
      "text/plain": [
       "  sex            amt\n",
       "0   F  222421.052632\n",
       "1   M  186462.686567"
      ]
     },
     "metadata": {},
     "output_type": "display_data"
    },
    {
     "data": {
      "image/png": "[encoded data removed]",
      "text/plain": [
       "<Figure size 640x480 with 1 Axes>"
      ]
     },
     "metadata": {},
     "output_type": "display_data"
    }
   ],
   "source": [
    "# 성별 평균 구하기\n",
    "custamts1 = cust1[['sex','amt']].groupby('sex').mean().reset_index()\n",
    "\n",
    "display(custamts1)\n",
    "\n",
    "# 성별 금액 합계 구하기\n",
    "custamts2 = custamts1.groupby('sex').sum().reset_index()\n",
    "\n",
    "# 막대 챠트 생성 -- 시각화\n",
    "plt.bar(custamts2.sex, custamts2.amt, color='dodgerblue')\n",
    "plt.title('고객 성별 구매액 합계')\n",
    "plt.show()"
   ]
  },
  {
   "cell_type": "markdown",
   "metadata": {},
   "source": [
    "[mini연습문제] \n",
    "1. 샘플 데이터인 cust1을 사용하여 지역별 금액평균을 구한 후\n",
    "2. 지역별 금액 평균을 나타내는 막대 챠트를 생성하라"
   ]
  },
  {
   "cell_type": "code",
   "execution_count": null,
   "metadata": {},
   "outputs": [],
   "source": []
  },
  {
   "cell_type": "markdown",
   "metadata": {},
   "source": [
    "[mini연습문제] \n",
    "1. 샘플 데이터인 cust1에서 남성고객만 추출한 후\n",
    "2. 지역별로 합계금액을 구한 후\n",
    "3. 지역별 합계금액을 나타내는 막대 챠트를 생성하라"
   ]
  },
  {
   "cell_type": "code",
   "execution_count": null,
   "metadata": {},
   "outputs": [],
   "source": []
  },
  {
   "cell_type": "code",
   "execution_count": null,
   "metadata": {},
   "outputs": [],
   "source": []
  },
  {
   "cell_type": "markdown",
   "metadata": {},
   "source": [
    "### 산점도를 사용한 시각화"
   ]
  },
  {
   "cell_type": "markdown",
   "metadata": {},
   "source": [
    "- 산점도 scatter plot 은 X, Y 두 개의 축에 어떤 값을 좌표로 가진 점들을 표시\n",
    "- X와 Y 두 변수 간의 관계를 파악하는데 유용\n",
    "- 예: 키와 몸무게"
   ]
  },
  {
   "cell_type": "code",
   "execution_count": 85,
   "metadata": {},
   "outputs": [
    {
     "data": {
      "image/png": "[encoded data removed]",
      "text/plain": [
       "<Figure size 640x480 with 1 Axes>"
      ]
     },
     "metadata": {},
     "output_type": "display_data"
    }
   ],
   "source": [
    "listHeight = [160, 165, 180, 155, 168]\n",
    "listWeight = [48, 46, 71, 52, 61]\n",
    "\n",
    "# 산점도에 X, Y 두 축에 해당하는 값 리스트 지정\n",
    "plt.scatter(listHeight, listWeight)\n",
    "plt.xlabel('키')\n",
    "plt.ylabel('몸무게')\n",
    "plt.show()"
   ]
  },
  {
   "cell_type": "markdown",
   "metadata": {},
   "source": [
    "- 고객 데이터를 사용한 scatter 생성 예제"
   ]
  },
  {
   "cell_type": "code",
   "execution_count": 86,
   "metadata": {},
   "outputs": [
    {
     "data": {
      "image/png": "[encoded data removed]",
      "text/plain": [
       "<Figure size 640x480 with 1 Axes>"
      ]
     },
     "metadata": {},
     "output_type": "display_data"
    }
   ],
   "source": [
    "# 산점도에 X, Y 두 축에 해당하는 값 리스트 지정\n",
    "\n",
    "# X는 연령, Y는 구매금액\n",
    "plt.scatter(cust1.age, cust1.amt)\n",
    "plt.xlabel('고객연령')\n",
    "plt.ylabel('구매금액')\n",
    "plt.show()"
   ]
  },
  {
   "cell_type": "markdown",
   "metadata": {},
   "source": [
    "[mini연습문제]\n",
    "\n",
    "1. X축에 구매금액을 Y축에 고객연령을 표시하는 산점도를 생성하라\n"
   ]
  },
  {
   "cell_type": "code",
   "execution_count": 100,
   "metadata": {},
   "outputs": [
    {
     "data": {
      "image/png": "[encoded data removed]",
      "text/plain": [
       "<Figure size 640x480 with 1 Axes>"
      ]
     },
     "metadata": {},
     "output_type": "display_data"
    }
   ],
   "source": [
    "# 산점도에 X, Y 두 축에 해당하는 값 리스트 지정\n",
    "\n",
    "# X는 연령, Y는 구매금액\n",
    "plt.scatter(cust1.amt, cust1.age)\n",
    "plt.xlabel('구매금액')\n",
    "plt.ylabel('고객연령')\n",
    "plt.show()\n"
   ]
  },
  {
   "cell_type": "code",
   "execution_count": 87,
   "metadata": {},
   "outputs": [
    {
     "data": {
      "image/png": "[encoded data removed]",
      "text/plain": [
       "<Figure size 640x480 with 1 Axes>"
      ]
     },
     "metadata": {},
     "output_type": "display_data"
    }
   ],
   "source": [
    "# 질문: 혹시 동일한 좌표에 여러 명의 고객이 존재하는 것은 아닌가?\n",
    "\n",
    "# alpha 옵션을 사용\n",
    "plt.scatter(cust1.age, cust1.amt,\n",
    "           alpha=0.1) # 투명도를 높임\n",
    "plt.xlabel('고객연령')\n",
    "plt.ylabel('구매금액')\n",
    "plt.show()\n",
    "\n",
    "# 흐리게 표시된 점은 해당 좌표에 고객이 1명만 존재한다는 것\n",
    "# 진하게 표시된 점은 해당 좌표에 고객이 여러 명 존재한다는 것"
   ]
  },
  {
   "cell_type": "code",
   "execution_count": 88,
   "metadata": {
    "scrolled": false
   },
   "outputs": [
    {
     "data": {
      "image/png": "[encoded data removed]",
      "text/plain": [
       "<Figure size 640x480 with 1 Axes>"
      ]
     },
     "metadata": {},
     "output_type": "display_data"
    },
    {
     "data": {
      "image/png": "[encoded data removed]",
      "text/plain": [
       "<Figure size 640x480 with 1 Axes>"
      ]
     },
     "metadata": {},
     "output_type": "display_data"
    },
    {
     "data": {
      "image/png": "[encoded data removed]",
      "text/plain": [
       "<Figure size 640x480 with 1 Axes>"
      ]
     },
     "metadata": {},
     "output_type": "display_data"
    },
    {
     "data": {
      "image/png": "[encoded data removed]",
      "text/plain": [
       "<Figure size 640x480 with 1 Axes>"
      ]
     },
     "metadata": {},
     "output_type": "display_data"
    },
    {
     "data": {
      "image/png": "[encoded data removed]",
      "text/plain": [
       "<Figure size 640x480 with 1 Axes>"
      ]
     },
     "metadata": {},
     "output_type": "display_data"
    }
   ],
   "source": [
    "# 투명도의 의미 이해\n",
    "\n",
    "for i in [0, 0.25, 0.5, 0.75, 1]:\n",
    "    plt.scatter(cust1.age, cust1.amt,\n",
    "               alpha=i) # 투명도를 조절\n",
    "    plt.title(i)\n",
    "    plt.show()"
   ]
  },
  {
   "cell_type": "code",
   "execution_count": 89,
   "metadata": {},
   "outputs": [
    {
     "data": {
      "image/png": "[encoded data removed]",
      "text/plain": [
       "<Figure size 640x480 with 1 Axes>"
      ]
     },
     "metadata": {},
     "output_type": "display_data"
    }
   ],
   "source": [
    "# 동일 좌표에 여러 점이 있는 문제를 피하기 위해\n",
    "# rjitt 사용자정의함수를 적용해 점을 약간 분산시킴\n",
    "\n",
    "plt.scatter(rjitt(cust1.age), rjitt(cust1.amt),\n",
    "            alpha=0.2, # 투명도를 높임\n",
    "            s=10) # 점의 크기를 줄임\n",
    "plt.xlabel('고객연령')\n",
    "plt.ylabel('구매금액')\n",
    "plt.show()"
   ]
  },
  {
   "cell_type": "markdown",
   "metadata": {},
   "source": [
    "- **jitter** (rjitt 은 사용자정의) 함수는 무작위로 약간의 값을 변경해서 점을 분산시키는 효과\n"
   ]
  },
  {
   "cell_type": "code",
   "execution_count": 90,
   "metadata": {},
   "outputs": [
    {
     "data": {
      "text/plain": [
       "array([2.01674494, 2.0016323 , 1.99993677, 1.99952685, 3.00744833,\n",
       "       2.98499951, 3.00096396, 3.00651359, 3.01932343])"
      ]
     },
     "execution_count": 90,
     "metadata": {},
     "output_type": "execute_result"
    }
   ],
   "source": [
    "# rjitt을 사용한 무작위 값 분산 예제 \n",
    "\n",
    "rjitt([2,2,2,2,3,3,3,3,3])"
   ]
  },
  {
   "cell_type": "code",
   "execution_count": 91,
   "metadata": {},
   "outputs": [
    {
     "data": {
      "text/plain": [
       "(1.5, 3.5)"
      ]
     },
     "execution_count": 91,
     "metadata": {},
     "output_type": "execute_result"
    },
    {
     "data": {
      "image/png": "[encoded data removed]",
      "text/plain": [
       "<Figure size 640x480 with 1 Axes>"
      ]
     },
     "metadata": {},
     "output_type": "display_data"
    }
   ],
   "source": [
    "valueList = [2,2,2,2,2,2,2,2,3,3,3,3,3,3,3,3,3,3]\n",
    "\n",
    "plt.scatter(valueList, valueList, alpha=0.2, s=50)\n",
    "plt.scatter(rjitt(valueList), rjitt(valueList), alpha=0.2, s=50)\n",
    "plt.xlim(1.5,3.5)\n",
    "plt.ylim(1.5,3.5)"
   ]
  },
  {
   "cell_type": "code",
   "execution_count": null,
   "metadata": {},
   "outputs": [],
   "source": []
  },
  {
   "cell_type": "markdown",
   "metadata": {},
   "source": [
    "- **해석 측면의 질문 :** 산점도를 보면 나이가 많은 고객일수록 구매금액이 큰 관계가 존재하는가?"
   ]
  },
  {
   "cell_type": "code",
   "execution_count": null,
   "metadata": {},
   "outputs": [],
   "source": []
  },
  {
   "cell_type": "markdown",
   "metadata": {},
   "source": [
    "#### [연습문제]\n",
    "\n",
    "1. 성별X연령별 고객수와 고객당 평균 구매금액을 집계한 데이터프레임을 생성하라\n",
    "2. 집계한 데이터프레임으로 고객수와 금액을 축으로한 산점도 scatter plot을 생성하라"
   ]
  },
  {
   "cell_type": "code",
   "execution_count": 92,
   "metadata": {},
   "outputs": [
    {
     "data": {
      "text/html": [
       "<div>\n",
       "<style scoped>\n",
       "    .dataframe tbody tr th:only-of-type {\n",
       "        vertical-align: middle;\n",
       "    }\n",
       "\n",
       "    .dataframe tbody tr th {\n",
       "        vertical-align: top;\n",
       "    }\n",
       "\n",
       "    .dataframe thead tr th {\n",
       "        text-align: left;\n",
       "    }\n",
       "</style>\n",
       "<table border=\"1\" class=\"dataframe\">\n",
       "  <thead>\n",
       "    <tr>\n",
       "      <th></th>\n",
       "      <th>sex</th>\n",
       "      <th>age</th>\n",
       "      <th colspan=\"2\" halign=\"left\">amt</th>\n",
       "    </tr>\n",
       "    <tr>\n",
       "      <th></th>\n",
       "      <th></th>\n",
       "      <th></th>\n",
       "      <th>count</th>\n",
       "      <th>mean</th>\n",
       "    </tr>\n",
       "  </thead>\n",
       "  <tbody>\n",
       "    <tr>\n",
       "      <th>52</th>\n",
       "      <td>M</td>\n",
       "      <td>44</td>\n",
       "      <td>1</td>\n",
       "      <td>230000.0</td>\n",
       "    </tr>\n",
       "    <tr>\n",
       "      <th>53</th>\n",
       "      <td>M</td>\n",
       "      <td>51</td>\n",
       "      <td>1</td>\n",
       "      <td>70000.0</td>\n",
       "    </tr>\n",
       "    <tr>\n",
       "      <th>54</th>\n",
       "      <td>M</td>\n",
       "      <td>52</td>\n",
       "      <td>1</td>\n",
       "      <td>190000.0</td>\n",
       "    </tr>\n",
       "    <tr>\n",
       "      <th>55</th>\n",
       "      <td>M</td>\n",
       "      <td>53</td>\n",
       "      <td>1</td>\n",
       "      <td>380000.0</td>\n",
       "    </tr>\n",
       "    <tr>\n",
       "      <th>56</th>\n",
       "      <td>M</td>\n",
       "      <td>54</td>\n",
       "      <td>1</td>\n",
       "      <td>70000.0</td>\n",
       "    </tr>\n",
       "  </tbody>\n",
       "</table>\n",
       "</div>"
      ],
      "text/plain": [
       "   sex age   amt          \n",
       "           count      mean\n",
       "52   M  44     1  230000.0\n",
       "53   M  51     1   70000.0\n",
       "54   M  52     1  190000.0\n",
       "55   M  53     1  380000.0\n",
       "56   M  54     1   70000.0"
      ]
     },
     "execution_count": 92,
     "metadata": {},
     "output_type": "execute_result"
    }
   ],
   "source": [
    "# 1. 성별X연령별 고객수와 고객당 평균 구매금액을 집계한 데이터프레임을 생성하라\n",
    "\n",
    "\n",
    "custSumm = cust1[['sex','age', 'amt']].groupby(['sex', 'age']).agg(['count','mean']).reset_index()\n",
    "custSumm.tail()"
   ]
  },
  {
   "cell_type": "code",
   "execution_count": 93,
   "metadata": {},
   "outputs": [
    {
     "data": {
      "text/html": [
       "<div>\n",
       "<style scoped>\n",
       "    .dataframe tbody tr th:only-of-type {\n",
       "        vertical-align: middle;\n",
       "    }\n",
       "\n",
       "    .dataframe tbody tr th {\n",
       "        vertical-align: top;\n",
       "    }\n",
       "\n",
       "    .dataframe thead th {\n",
       "        text-align: right;\n",
       "    }\n",
       "</style>\n",
       "<table border=\"1\" class=\"dataframe\">\n",
       "  <thead>\n",
       "    <tr style=\"text-align: right;\">\n",
       "      <th></th>\n",
       "      <th>sex</th>\n",
       "      <th>age</th>\n",
       "      <th>cntCust</th>\n",
       "      <th>mean_sale_amt</th>\n",
       "    </tr>\n",
       "  </thead>\n",
       "  <tbody>\n",
       "    <tr>\n",
       "      <th>52</th>\n",
       "      <td>M</td>\n",
       "      <td>44</td>\n",
       "      <td>1</td>\n",
       "      <td>230000.0</td>\n",
       "    </tr>\n",
       "    <tr>\n",
       "      <th>53</th>\n",
       "      <td>M</td>\n",
       "      <td>51</td>\n",
       "      <td>1</td>\n",
       "      <td>70000.0</td>\n",
       "    </tr>\n",
       "    <tr>\n",
       "      <th>54</th>\n",
       "      <td>M</td>\n",
       "      <td>52</td>\n",
       "      <td>1</td>\n",
       "      <td>190000.0</td>\n",
       "    </tr>\n",
       "    <tr>\n",
       "      <th>55</th>\n",
       "      <td>M</td>\n",
       "      <td>53</td>\n",
       "      <td>1</td>\n",
       "      <td>380000.0</td>\n",
       "    </tr>\n",
       "    <tr>\n",
       "      <th>56</th>\n",
       "      <td>M</td>\n",
       "      <td>54</td>\n",
       "      <td>1</td>\n",
       "      <td>70000.0</td>\n",
       "    </tr>\n",
       "  </tbody>\n",
       "</table>\n",
       "</div>"
      ],
      "text/plain": [
       "   sex  age  cntCust  mean_sale_amt\n",
       "52   M   44        1       230000.0\n",
       "53   M   51        1        70000.0\n",
       "54   M   52        1       190000.0\n",
       "55   M   53        1       380000.0\n",
       "56   M   54        1        70000.0"
      ]
     },
     "execution_count": 93,
     "metadata": {},
     "output_type": "execute_result"
    }
   ],
   "source": [
    "custSumm1 = custSumm.copy() \n",
    "\n",
    "custSumm1.columns = ['sex','age', 'cntCust', 'mean_sale_amt']\n",
    "custSumm1.tail()"
   ]
  },
  {
   "cell_type": "code",
   "execution_count": 94,
   "metadata": {},
   "outputs": [
    {
     "data": {
      "image/png": "[encoded data removed]",
      "text/plain": [
       "<Figure size 640x480 with 1 Axes>"
      ]
     },
     "metadata": {},
     "output_type": "display_data"
    }
   ],
   "source": [
    "# 2. 집계한 데이터프레임으로 고객수와 금액을 축으로한 산점도 scatter plot을 생성하라\n",
    "\n",
    "plt.scatter(custSumm1.cntCust, custSumm1.mean_sale_amt, \n",
    "            alpha=0.3)\n",
    "plt.xlabel('고객수')\n",
    "plt.ylabel('평균구매액')\n",
    "plt.show()"
   ]
  },
  {
   "cell_type": "code",
   "execution_count": 95,
   "metadata": {},
   "outputs": [
    {
     "data": {
      "image/png": "[encoded data removed]",
      "text/plain": [
       "<Figure size 1200x400 with 1 Axes>"
      ]
     },
     "metadata": {},
     "output_type": "display_data"
    }
   ],
   "source": [
    "# 해상도 높은 챠트 이미지 생성해 저장\n",
    "\n",
    "colors1 = np.where(custSumm1.age<35, 'dodgerblue', 'grey')\n",
    "plt.figure(figsize=(12,4))\n",
    "plt.scatter(custSumm1.cntCust, custSumm1.mean_sale_amt, \n",
    "            alpha=0.3, color=colors1, s=80)\n",
    "plt.title('dodgerblue color: 35세미만 고객집단')\n",
    "plt.xlabel('고객수')\n",
    "plt.ylabel('평균구매액')\n",
    "# plt.savefig(\"Higherresoltion.png\",dpi=200)\n",
    "plt.show()"
   ]
  },
  {
   "cell_type": "markdown",
   "metadata": {},
   "source": [
    "### 히스토그램을 사용한 분포 확인"
   ]
  },
  {
   "cell_type": "code",
   "execution_count": 96,
   "metadata": {},
   "outputs": [
    {
     "data": {
      "image/png": "[encoded data removed]",
      "text/plain": [
       "<Figure size 640x480 with 1 Axes>"
      ]
     },
     "metadata": {},
     "output_type": "display_data"
    }
   ],
   "source": [
    "# 추가 분석 : X의 값 분포 확인\n",
    "\n",
    "# hist 히스토그램 histogram 사용\n",
    "plt.hist(custSumm1.cntCust)\n",
    "plt.show()"
   ]
  },
  {
   "cell_type": "markdown",
   "metadata": {},
   "source": [
    "- **histogram** 히스토그램 (도수분포 챠트) 은 값들을 일정한 수의 구간으로 나눠 각 구간에 속하는 값들을 수를 구한 후 챠트로 표시한 것 \n",
    "- histogram을 사용하면 값들의 분포를 한 눈에 파악할 수 있음"
   ]
  },
  {
   "cell_type": "code",
   "execution_count": 97,
   "metadata": {},
   "outputs": [
    {
     "data": {
      "text/plain": [
       "(array([15., 18., 15.,  5.,  2.,  0.,  0.,  0.,  0.,  2.]),\n",
       " array([ 35000., 125000., 215000., 305000., 395000., 485000., 575000.,\n",
       "        665000., 755000., 845000., 935000.]),\n",
       " <BarContainer object of 10 artists>)"
      ]
     },
     "execution_count": 97,
     "metadata": {},
     "output_type": "execute_result"
    },
    {
     "data": {
      "image/png": "[encoded data removed]",
      "text/plain": [
       "<Figure size 640x480 with 1 Axes>"
      ]
     },
     "metadata": {},
     "output_type": "display_data"
    }
   ],
   "source": [
    "# 추가 분석 : Y의 값 분포 확인\n",
    "\n",
    "plt.hist(custSumm1.mean_sale_amt)"
   ]
  },
  {
   "cell_type": "code",
   "execution_count": null,
   "metadata": {},
   "outputs": [],
   "source": []
  },
  {
   "cell_type": "markdown",
   "metadata": {},
   "source": [
    "### 추가 연습문제\n",
    "- 상품마스터 테이블(itemmast)을 사용해서 브랜드별 대분류별 상품수와 평균가격을 분석하라"
   ]
  },
  {
   "cell_type": "code",
   "execution_count": null,
   "metadata": {},
   "outputs": [],
   "source": []
  },
  {
   "cell_type": "code",
   "execution_count": null,
   "metadata": {},
   "outputs": [],
   "source": []
  },
  {
   "cell_type": "markdown",
   "metadata": {},
   "source": [
    "## Summary"
   ]
  },
  {
   "cell_type": "markdown",
   "metadata": {},
   "source": [
    "- 파이썬에는 일반적인 프로그래밍 기능에 더해서 데이터 테이블의 집계, 가공, 데이터 시각화 등의 추가 기능 존재\n",
    "- 이러한 기능들을 조합하면 분포나 변수들간 관계, 추세변화 파악 등 다양한 데이터 분석 가능함\n",
    "- 단, 수많은 기능들이 존재하므로 (처음부터) 모두를 익히려고 하기 보다는 **실무에서 자주 사용될 주요 기능들을 먼저** 숙지하기를 권장"
   ]
  }
 ],
 "metadata": {
  "kernelspec": {
   "display_name": "Python 3 (ipykernel)",
   "language": "python",
   "name": "python3"
  },
  "language_info": {
   "codemirror_mode": {
    "name": "ipython",
    "version": 3
   },
   "file_extension": ".py",
   "mimetype": "text/x-python",
   "name": "python",
   "nbconvert_exporter": "python",
   "pygments_lexer": "ipython3",
   "version": "3.10.9"
  }
 },
 "nbformat": 4,
 "nbformat_minor": 4
}
